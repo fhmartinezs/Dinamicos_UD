{
 "cells": [
  {
   "cell_type": "markdown",
   "metadata": {
    "deletable": true,
    "editable": true
   },
   "source": [
    "# Analysis of Dynamic Systems"
   ]
  },
  {
   "cell_type": "markdown",
   "metadata": {
    "deletable": true,
    "editable": true
   },
   "source": [
    "## Schedule:"
   ]
  },
  {
   "cell_type": "markdown",
   "metadata": {
    "deletable": true,
    "editable": true
   },
   "source": [
    "- Getting started\n",
    "- Introduction\n",
    "- Mathematical bases\n",
    "- Bode diagrams\n",
    "- Modeling with linear elements\n",
    "- State variables\n",
    "- Block diagrams\n",
    "- Time response\n",
    "- Frequency response\n",
    "- Stability\n",
    "- Root Locus\n",
    "- Final project\n",
    "- Course evaluation"
   ]
  },
  {
   "cell_type": "markdown",
   "metadata": {
    "deletable": true,
    "editable": true
   },
   "source": [
    "## Introduction"
   ]
  },
  {
   "cell_type": "markdown",
   "metadata": {
    "deletable": true,
    "editable": true
   },
   "source": [
    "### Course Notebook"
   ]
  },
  {
   "cell_type": "markdown",
   "metadata": {
    "deletable": true,
    "editable": true
   },
   "source": [
    "Download the master file, unzip it to a place on the hard disk easy to find (I recommend the root of the hard disk, or a folder called c:/temp), and from inside the folder run:\n",
    "\n",
    "*ipython notebook*\n",
    "\n",
    "You'll be fine from there..."
   ]
  },
  {
   "cell_type": "markdown",
   "metadata": {
    "deletable": true,
    "editable": true
   },
   "source": [
    "### Control Systems"
   ]
  },
  {
   "cell_type": "markdown",
   "metadata": {
    "deletable": true,
    "editable": true
   },
   "source": [
    "A system can behave in many ways, output variables can have different goals, for example:"
   ]
  },
  {
   "cell_type": "markdown",
   "metadata": {
    "deletable": true,
    "editable": true
   },
   "source": [
    "- Get to the destination in the shortest time.\n",
    "- Get to the destination in the shortest time and with the minimum consumption."
   ]
  },
  {
   "cell_type": "code",
   "execution_count": 1,
   "metadata": {
    "collapsed": false,
    "deletable": true,
    "editable": true
   },
   "outputs": [
    {
     "data": {
      "image/svg+xml": [
       "<svg height=\"98.526482\" id=\"svg2\" inkscape:version=\"0.48.4 r9939\" sodipodi:docname=\"intro_fig1.svg\" version=\"1.1\" width=\"621.8371\" xmlns=\"http://www.w3.org/2000/svg\" xmlns:cc=\"http://creativecommons.org/ns#\" xmlns:dc=\"http://purl.org/dc/elements/1.1/\" xmlns:inkscape=\"http://www.inkscape.org/namespaces/inkscape\" xmlns:rdf=\"http://www.w3.org/1999/02/22-rdf-syntax-ns#\" xmlns:sodipodi=\"http://sodipodi.sourceforge.net/DTD/sodipodi-0.dtd\" xmlns:svg=\"http://www.w3.org/2000/svg\">\n",
       "  <defs id=\"defs4\">\n",
       "    <marker id=\"Arrow1Mend\" inkscape:stockid=\"Arrow1Mend\" orient=\"auto\" refX=\"0\" refY=\"0\" style=\"overflow:visible\">\n",
       "      <path d=\"M 0,0 5,-5 -12.5,0 5,5 0,0 z\" id=\"path3809\" inkscape:connector-curvature=\"0\" style=\"fill-rule:evenodd;stroke:#000000;stroke-width:1pt\" transform=\"matrix(-0.4,0,0,-0.4,-4,0)\"/>\n",
       "    </marker>\n",
       "    <marker id=\"Arrow1Mend-3\" inkscape:stockid=\"Arrow1Mend\" orient=\"auto\" refX=\"0\" refY=\"0\" style=\"overflow:visible\">\n",
       "      <path d=\"M 0,0 5,-5 -12.5,0 5,5 0,0 z\" id=\"path3809-6\" inkscape:connector-curvature=\"0\" style=\"fill-rule:evenodd;stroke:#000000;stroke-width:1pt\" transform=\"matrix(-0.4,0,0,-0.4,-4,0)\"/>\n",
       "    </marker>\n",
       "  </defs>\n",
       "  <sodipodi:namedview bordercolor=\"#666666\" borderopacity=\"1.0\" fit-margin-bottom=\"0\" fit-margin-left=\"0\" fit-margin-right=\"0\" fit-margin-top=\"0\" id=\"base\" inkscape:current-layer=\"layer1\" inkscape:cx=\"239.63491\" inkscape:cy=\"-56.468933\" inkscape:document-units=\"px\" inkscape:pageopacity=\"0.0\" inkscape:pageshadow=\"2\" inkscape:window-height=\"934\" inkscape:window-maximized=\"0\" inkscape:window-width=\"1405\" inkscape:window-x=\"472\" inkscape:window-y=\"155\" inkscape:zoom=\"0.85631068\" pagecolor=\"#ffffff\" showgrid=\"false\"/>\n",
       "  <metadata id=\"metadata7\">\n",
       "    <rdf:RDF>\n",
       "      <cc:Work rdf:about=\"\">\n",
       "        <dc:format>image/svg+xml</dc:format>\n",
       "        <dc:type rdf:resource=\"http://purl.org/dc/dcmitype/StillImage\"/>\n",
       "        <dc:title/>\n",
       "      </cc:Work>\n",
       "    </rdf:RDF>\n",
       "  </metadata>\n",
       "  <g id=\"layer1\" inkscape:groupmode=\"layer\" inkscape:label=\"Layer 1\" transform=\"translate(-57.950123,-538.79534)\">\n",
       "    <text id=\"text2985\" sodipodi:linespacing=\"125%\" style=\"font-size:29.32876396px;font-style:normal;font-variant:normal;font-weight:normal;font-stretch:normal;text-align:center;line-height:125%;letter-spacing:0px;word-spacing:0px;text-anchor:middle;fill:#000000;fill-opacity:1;stroke:none;font-family:Caladea;-inkscape-font-specification:Caladea\" x=\"365.3895\" xml:space=\"preserve\" y=\"595.37433\"><tspan id=\"tspan2987\" sodipodi:role=\"line\" x=\"365.3895\" y=\"595.37433\">Control system</tspan></text>\n",
       "    <rect height=\"85.625359\" id=\"rect2989\" style=\"fill:none;stroke:#000000;stroke-width:2.59802032;stroke-linecap:round;stroke-linejoin:round;stroke-miterlimit:4;stroke-opacity:1;stroke-dasharray:none;stroke-dashoffset:0\" width=\"238.0385\" x=\"246.79507\" y=\"545.53741\"/>\n",
       "    <text id=\"text3778\" sodipodi:linespacing=\"125%\" style=\"font-size:29.32876396px;font-style:normal;font-variant:normal;font-weight:normal;font-stretch:normal;text-align:center;line-height:125%;letter-spacing:0px;word-spacing:0px;text-anchor:middle;fill:#000000;fill-opacity:1;stroke:none;font-family:Caladea;-inkscape-font-specification:Caladea\" x=\"142.21773\" xml:space=\"preserve\" y=\"559.28149\"><tspan id=\"tspan3780\" sodipodi:role=\"line\" x=\"142.21773\" y=\"559.28149\">Goals</tspan></text>\n",
       "    <text id=\"text3782\" sodipodi:linespacing=\"125%\" style=\"font-size:29.32876396px;font-style:normal;font-variant:normal;font-weight:normal;font-stretch:normal;text-align:center;line-height:125%;letter-spacing:0px;word-spacing:0px;text-anchor:middle;fill:#000000;fill-opacity:1;stroke:none;font-family:Caladea;-inkscape-font-specification:Caladea\" x=\"142.80429\" xml:space=\"preserve\" y=\"631.03076\"><tspan id=\"tspan3784\" sodipodi:role=\"line\" x=\"142.80429\" y=\"631.03076\">Inputs</tspan></text>\n",
       "    <text id=\"text3786\" sodipodi:linespacing=\"125%\" style=\"font-size:29.32876396px;font-style:normal;font-variant:normal;font-weight:normal;font-stretch:normal;text-align:center;line-height:125%;letter-spacing:0px;word-spacing:0px;text-anchor:middle;fill:#000000;fill-opacity:1;stroke:none;font-family:Caladea;-inkscape-font-specification:Caladea\" x=\"578.80139\" xml:space=\"preserve\" y=\"631.16278\"><tspan id=\"tspan3788\" sodipodi:role=\"line\" x=\"578.80139\" y=\"631.16278\">Outputs</tspan></text>\n",
       "    <text id=\"text3790\" sodipodi:linespacing=\"125%\" style=\"font-size:29.32876396px;font-style:normal;font-variant:normal;font-weight:normal;font-stretch:normal;text-align:center;line-height:125%;letter-spacing:0px;word-spacing:0px;text-anchor:middle;fill:#000000;fill-opacity:1;stroke:none;font-family:Caladea;-inkscape-font-specification:Caladea\" x=\"579.02142\" xml:space=\"preserve\" y=\"559.23749\"><tspan id=\"tspan3792\" sodipodi:role=\"line\" x=\"579.02142\" y=\"559.23749\">Results</tspan></text>\n",
       "    <path d=\"m 92.669412,588.3501 152.413138,0\" id=\"path3794\" inkscape:connector-curvature=\"0\" style=\"fill:none;stroke:#000000;stroke-width:2.59802032;stroke-linecap:butt;stroke-linejoin:miter;stroke-miterlimit:4;stroke-opacity:1;stroke-dasharray:none;marker-end:url(#Arrow1Mend)\"/>\n",
       "    <path d=\"m 486.42807,588.3501 152.41314,0\" id=\"path3794-7\" inkscape:connector-curvature=\"0\" style=\"fill:none;stroke:#000000;stroke-width:2.59802032;stroke-linecap:butt;stroke-linejoin:miter;stroke-miterlimit:4;stroke-opacity:1;stroke-dasharray:none;marker-end:url(#Arrow1Mend)\"/>\n",
       "    <text id=\"text3778-5\" sodipodi:linespacing=\"125%\" style=\"font-size:29.32876396px;font-style:normal;font-variant:normal;font-weight:normal;font-stretch:normal;text-align:center;line-height:125%;letter-spacing:0px;word-spacing:0px;text-anchor:middle;fill:#000000;fill-opacity:1;stroke:none;font-family:Caladea;-inkscape-font-specification:Caladea\" x=\"64.507393\" xml:space=\"preserve\" y=\"591.64838\"><tspan id=\"tspan3780-3\" sodipodi:role=\"line\" style=\"font-style:italic;-inkscape-font-specification:Caladea Italic\" x=\"64.507393\" y=\"591.64838\">u</tspan></text>\n",
       "    <text id=\"text3778-5-5\" sodipodi:linespacing=\"125%\" style=\"font-size:29.32876396px;font-style:normal;font-variant:normal;font-weight:normal;font-stretch:normal;text-align:center;line-height:125%;letter-spacing:0px;word-spacing:0px;text-anchor:middle;fill:#000000;fill-opacity:1;stroke:none;font-family:Caladea;-inkscape-font-specification:Caladea\" x=\"674.12079\" xml:space=\"preserve\" y=\"591.64838\"><tspan id=\"tspan3780-3-6\" sodipodi:role=\"line\" style=\"font-style:italic;-inkscape-font-specification:Caladea Italic\" x=\"674.12079\" y=\"591.64838\">c</tspan></text>\n",
       "  </g>\n",
       "</svg>"
      ],
      "text/plain": [
       "<IPython.core.display.SVG object>"
      ]
     },
     "execution_count": 1,
     "metadata": {},
     "output_type": "execute_result"
    }
   ],
   "source": [
    "from IPython.display import SVG\n",
    "SVG('img/intro_fig1.svg')"
   ]
  },
  {
   "cell_type": "markdown",
   "metadata": {
    "deletable": true,
    "editable": true
   },
   "source": [
    "Almost every aspect of everyday life is affected by some kind of control system."
   ]
  },
  {
   "cell_type": "markdown",
   "metadata": {
    "deletable": true,
    "editable": true
   },
   "source": [
    "The basic elements of a control system are:\n",
    "- Control goals\n",
    "- System components\n",
    "- Results"
   ]
  },
  {
   "cell_type": "markdown",
   "metadata": {
    "deletable": true,
    "editable": true
   },
   "source": [
    "**Purpose of the control:** To control the outputs *c* in a predetermined way, by means of the inputs *u* and the control system."
   ]
  },
  {
   "cell_type": "markdown",
   "metadata": {
    "deletable": true,
    "editable": true
   },
   "source": [
    "**Feedback:** Its function is to reduce the error between the reference input and the output. It also ensures stability."
   ]
  },
  {
   "cell_type": "markdown",
   "metadata": {
    "deletable": true,
    "editable": true
   },
   "source": [
    "**Plant:** is the combination of process and actuator. A plant is often referred to with a transfer function (in the s-domain) which indicates the relation between an input signal and the output signal of a system without feedback, commonly determined by physical properties of the system."
   ]
  },
  {
   "cell_type": "markdown",
   "metadata": {
    "deletable": true,
    "editable": true
   },
   "source": [
    "### Open-loop control systems"
   ]
  },
  {
   "cell_type": "code",
   "execution_count": 2,
   "metadata": {
    "collapsed": false,
    "deletable": true,
    "editable": true
   },
   "outputs": [
    {
     "data": {
      "image/svg+xml": [
       "<svg height=\"142.18529\" id=\"svg2\" inkscape:version=\"0.48.4 r9939\" sodipodi:docname=\"intro_fig2.svg\" version=\"1.1\" width=\"760.66833\" xmlns=\"http://www.w3.org/2000/svg\" xmlns:cc=\"http://creativecommons.org/ns#\" xmlns:dc=\"http://purl.org/dc/elements/1.1/\" xmlns:inkscape=\"http://www.inkscape.org/namespaces/inkscape\" xmlns:rdf=\"http://www.w3.org/1999/02/22-rdf-syntax-ns#\" xmlns:sodipodi=\"http://sodipodi.sourceforge.net/DTD/sodipodi-0.dtd\" xmlns:svg=\"http://www.w3.org/2000/svg\">\n",
       "  <defs id=\"defs4\">\n",
       "    <marker id=\"Arrow1Mend\" inkscape:stockid=\"Arrow1Mend\" orient=\"auto\" refX=\"0\" refY=\"0\" style=\"overflow:visible\">\n",
       "      <path d=\"M 0,0 5,-5 -12.5,0 5,5 0,0 z\" id=\"path3809\" inkscape:connector-curvature=\"0\" style=\"fill-rule:evenodd;stroke:#000000;stroke-width:1pt\" transform=\"matrix(-0.4,0,0,-0.4,-4,0)\"/>\n",
       "    </marker>\n",
       "    <marker id=\"Arrow1Mend-3\" inkscape:stockid=\"Arrow1Mend\" orient=\"auto\" refX=\"0\" refY=\"0\" style=\"overflow:visible\">\n",
       "      <path d=\"M 0,0 5,-5 -12.5,0 5,5 0,0 z\" id=\"path3809-6\" inkscape:connector-curvature=\"0\" style=\"fill-rule:evenodd;stroke:#000000;stroke-width:1pt\" transform=\"matrix(-0.4,0,0,-0.4,-4,0)\"/>\n",
       "    </marker>\n",
       "    <marker id=\"Arrow1Mend-2\" inkscape:stockid=\"Arrow1Mend\" orient=\"auto\" refX=\"0\" refY=\"0\" style=\"overflow:visible\">\n",
       "      <path d=\"M 0,0 5,-5 -12.5,0 5,5 0,0 z\" id=\"path3809-7\" inkscape:connector-curvature=\"0\" style=\"fill-rule:evenodd;stroke:#000000;stroke-width:1pt\" transform=\"matrix(-0.4,0,0,-0.4,-4,0)\"/>\n",
       "    </marker>\n",
       "    <marker id=\"Arrow1Mend-9\" inkscape:stockid=\"Arrow1Mend\" orient=\"auto\" refX=\"0\" refY=\"0\" style=\"overflow:visible\">\n",
       "      <path d=\"M 0,0 5,-5 -12.5,0 5,5 0,0 z\" id=\"path3809-3\" inkscape:connector-curvature=\"0\" style=\"fill-rule:evenodd;stroke:#000000;stroke-width:1pt\" transform=\"matrix(-0.4,0,0,-0.4,-4,0)\"/>\n",
       "    </marker>\n",
       "  </defs>\n",
       "  <sodipodi:namedview bordercolor=\"#666666\" borderopacity=\"1.0\" fit-margin-bottom=\"0\" fit-margin-left=\"0\" fit-margin-right=\"0\" fit-margin-top=\"0\" id=\"base\" inkscape:current-layer=\"layer1\" inkscape:cx=\"530.48877\" inkscape:cy=\"-236.23414\" inkscape:document-units=\"px\" inkscape:pageopacity=\"0.0\" inkscape:pageshadow=\"2\" inkscape:window-height=\"934\" inkscape:window-maximized=\"0\" inkscape:window-width=\"1405\" inkscape:window-x=\"472\" inkscape:window-y=\"155\" inkscape:zoom=\"0.85631068\" pagecolor=\"#ffffff\" showgrid=\"false\"/>\n",
       "  <metadata id=\"metadata7\">\n",
       "    <rdf:RDF>\n",
       "      <cc:Work rdf:about=\"\">\n",
       "        <dc:format>image/svg+xml</dc:format>\n",
       "        <dc:type rdf:resource=\"http://purl.org/dc/dcmitype/StillImage\"/>\n",
       "        <dc:title/>\n",
       "      </cc:Work>\n",
       "    </rdf:RDF>\n",
       "  </metadata>\n",
       "  <g id=\"layer1\" inkscape:groupmode=\"layer\" inkscape:label=\"Layer 1\" transform=\"translate(232.90374,-315.37133)\">\n",
       "    <text id=\"text2985\" sodipodi:linespacing=\"125%\" style=\"font-size:29.32876396px;font-style:normal;font-variant:normal;font-weight:normal;font-stretch:normal;text-align:center;line-height:125%;letter-spacing:0px;word-spacing:0px;text-anchor:middle;fill:#000000;fill-opacity:1;stroke:none;font-family:Caladea;-inkscape-font-specification:Caladea\" x=\"6.8747559\" xml:space=\"preserve\" y=\"430.18536\"><tspan id=\"tspan2987\" sodipodi:role=\"line\" x=\"6.8747549\" y=\"430.18536\">Control</tspan></text>\n",
       "    <rect height=\"68.588348\" id=\"rect2989\" style=\"fill:none;stroke:#000000;stroke-width:2.59724402;stroke-linecap:round;stroke-linejoin:round;stroke-miterlimit:4;stroke-opacity:1;stroke-dasharray:none;stroke-dashoffset:0\" width=\"190.67561\" x=\"-88.015564\" y=\"385.81677\"/>\n",
       "    <path d=\"m 383.02331,420.11095 81.54813,0\" id=\"path3794-7\" inkscape:connector-curvature=\"0\" style=\"fill:none;stroke:#000000;stroke-width:2.59724402;stroke-linecap:butt;stroke-linejoin:miter;stroke-miterlimit:4;stroke-opacity:1;stroke-dasharray:none;marker-end:url(#Arrow1Mend)\"/>\n",
       "    <text id=\"text3778-5\" sodipodi:linespacing=\"125%\" style=\"font-size:29.32876396px;font-style:normal;font-variant:normal;font-weight:normal;font-stretch:normal;text-align:center;line-height:125%;letter-spacing:0px;word-spacing:0px;text-anchor:middle;fill:#000000;fill-opacity:1;stroke:none;font-family:Caladea;-inkscape-font-specification:Caladea\" x=\"145.08562\" xml:space=\"preserve\" y=\"457.35132\"><tspan id=\"tspan3780-3\" sodipodi:role=\"line\" style=\"font-style:italic;-inkscape-font-specification:Caladea Italic\" x=\"145.08562\" y=\"457.35132\">u</tspan></text>\n",
       "    <text id=\"text3778-5-5\" sodipodi:linespacing=\"125%\" style=\"font-size:29.32876396px;font-style:normal;font-variant:normal;font-weight:normal;font-stretch:normal;text-align:center;line-height:125%;letter-spacing:0px;word-spacing:0px;text-anchor:middle;fill:#000000;fill-opacity:1;stroke:none;font-family:Caladea;-inkscape-font-specification:Caladea\" x=\"462.7489\" xml:space=\"preserve\" y=\"457.35132\"><tspan id=\"tspan3780-3-6\" sodipodi:role=\"line\" style=\"font-style:italic;-inkscape-font-specification:Caladea Italic\" x=\"462.7489\" y=\"457.35132\">c</tspan></text>\n",
       "    <g id=\"g4396\" transform=\"translate(-12,0)\">\n",
       "      <rect height=\"68.588348\" id=\"rect2989-2\" style=\"fill:none;stroke:#000000;stroke-width:2.59724402;stroke-linecap:round;stroke-linejoin:round;stroke-miterlimit:4;stroke-opacity:1;stroke-dasharray:none;stroke-dashoffset:0\" width=\"190.67561\" x=\"204.34702\" y=\"385.81677\"/>\n",
       "      <text id=\"text2985-9\" sodipodi:linespacing=\"125%\" style=\"font-size:29.32876396px;font-style:normal;font-variant:normal;font-weight:normal;font-stretch:normal;text-align:center;line-height:125%;letter-spacing:0px;word-spacing:0px;text-anchor:middle;fill:#000000;fill-opacity:1;stroke:none;font-family:Caladea;-inkscape-font-specification:Caladea\" x=\"299.22861\" xml:space=\"preserve\" y=\"430.18536\"><tspan id=\"tspan2987-1\" sodipodi:role=\"line\" x=\"299.22861\" y=\"430.18536\">Plant</tspan></text>\n",
       "    </g>\n",
       "    <path d=\"m -174.14938,420.11095 81.548125,0\" id=\"path3794-7-0\" inkscape:connector-curvature=\"0\" style=\"fill:none;stroke:#000000;stroke-width:2.59724402;stroke-linecap:butt;stroke-linejoin:miter;stroke-miterlimit:4;stroke-opacity:1;stroke-dasharray:none;marker-end:url(#Arrow1Mend)\"/>\n",
       "    <path d=\"m 102.61933,420.11095 81.54812,0\" id=\"path3794-7-6\" inkscape:connector-curvature=\"0\" style=\"fill:none;stroke:#000000;stroke-width:2.59724402;stroke-linecap:butt;stroke-linejoin:miter;stroke-miterlimit:4;stroke-opacity:1;stroke-dasharray:none;marker-end:url(#Arrow1Mend)\"/>\n",
       "    <text id=\"text3778-5-0\" sodipodi:linespacing=\"125%\" style=\"font-size:29.32876396px;font-style:normal;font-variant:normal;font-weight:normal;font-stretch:normal;text-align:center;line-height:125%;letter-spacing:0px;word-spacing:0px;text-anchor:middle;fill:#000000;fill-opacity:1;stroke:none;font-family:Caladea;-inkscape-font-specification:Caladea\" x=\"-172.23627\" xml:space=\"preserve\" y=\"457.45398\"><tspan id=\"tspan3780-3-62\" sodipodi:role=\"line\" style=\"font-style:italic;-inkscape-font-specification:Caladea Italic\" x=\"-172.23627\" y=\"457.45398\">r</tspan></text>\n",
       "    <text id=\"text2985-6\" sodipodi:linespacing=\"125%\" style=\"font-size:29.32876396px;font-style:normal;font-variant:normal;font-weight:normal;font-stretch:normal;text-align:center;line-height:125%;letter-spacing:0px;word-spacing:0px;text-anchor:middle;fill:#000000;fill-opacity:1;stroke:none;font-family:Caladea;-inkscape-font-specification:Caladea\" x=\"-171.75189\" xml:space=\"preserve\" y=\"357.42877\"><tspan id=\"tspan2987-18\" sodipodi:role=\"line\" x=\"-171.75189\" y=\"357.42877\">Reference</tspan></text>\n",
       "    <text id=\"text2985-6-7\" sodipodi:linespacing=\"125%\" style=\"font-size:29.32876396px;font-style:normal;font-variant:normal;font-weight:normal;font-stretch:normal;text-align:center;line-height:125%;letter-spacing:0px;word-spacing:0px;text-anchor:middle;fill:#000000;fill-opacity:1;stroke:none;font-family:Caladea;-inkscape-font-specification:Caladea\" x=\"144.76781\" xml:space=\"preserve\" y=\"335.81348\"><tspan id=\"tspan2987-18-9\" sodipodi:role=\"line\" x=\"144.76781\" y=\"335.81348\">Control</tspan><tspan id=\"tspan4511\" sodipodi:role=\"line\" x=\"144.76781\" y=\"372.47443\">signal</tspan></text>\n",
       "    <text id=\"text2985-6-7-2\" sodipodi:linespacing=\"125%\" style=\"font-size:29.32876396px;font-style:normal;font-variant:normal;font-weight:normal;font-stretch:normal;text-align:center;line-height:125%;letter-spacing:0px;word-spacing:0px;text-anchor:middle;fill:#000000;fill-opacity:1;stroke:none;font-family:Caladea;-inkscape-font-specification:Caladea\" x=\"462.67694\" xml:space=\"preserve\" y=\"338.92233\"><tspan id=\"tspan4511-2\" sodipodi:role=\"line\" x=\"462.67694\" y=\"338.92233\">Controlled</tspan><tspan id=\"tspan4539\" sodipodi:role=\"line\" x=\"462.67694\" y=\"375.58328\">variable</tspan></text>\n",
       "  </g>\n",
       "</svg>"
      ],
      "text/plain": [
       "<IPython.core.display.SVG object>"
      ]
     },
     "execution_count": 2,
     "metadata": {},
     "output_type": "execute_result"
    }
   ],
   "source": [
    "from IPython.display import SVG\n",
    "SVG('img/intro_fig2.svg')"
   ]
  },
  {
   "cell_type": "markdown",
   "metadata": {
    "deletable": true,
    "editable": true
   },
   "source": [
    "**Example:** A washing machine. The wash cycle is determined by the user's criteria. There are no sensors that measure the degree of cleaning of clothes."
   ]
  },
  {
   "cell_type": "markdown",
   "metadata": {
    "deletable": true,
    "editable": true
   },
   "source": [
    "### Closed-loop control systems"
   ]
  },
  {
   "cell_type": "code",
   "execution_count": 3,
   "metadata": {
    "collapsed": false,
    "deletable": true,
    "editable": true
   },
   "outputs": [
    {
     "data": {
      "image/svg+xml": [
       "<svg height=\"327.35645\" id=\"svg2\" inkscape:version=\"0.48.4 r9939\" sodipodi:docname=\"intro_fig3.svg\" version=\"1.1\" width=\"878.66833\" xmlns=\"http://www.w3.org/2000/svg\" xmlns:cc=\"http://creativecommons.org/ns#\" xmlns:dc=\"http://purl.org/dc/elements/1.1/\" xmlns:inkscape=\"http://www.inkscape.org/namespaces/inkscape\" xmlns:rdf=\"http://www.w3.org/1999/02/22-rdf-syntax-ns#\" xmlns:sodipodi=\"http://sodipodi.sourceforge.net/DTD/sodipodi-0.dtd\" xmlns:svg=\"http://www.w3.org/2000/svg\">\n",
       "  <defs id=\"defs4\">\n",
       "    <marker id=\"Arrow1Mstart\" inkscape:stockid=\"Arrow1Mstart\" orient=\"auto\" refX=\"0\" refY=\"0\" style=\"overflow:visible\">\n",
       "      <path d=\"M 0,0 5,-5 -12.5,0 5,5 0,0 z\" id=\"path3806\" inkscape:connector-curvature=\"0\" style=\"fill-rule:evenodd;stroke:#000000;stroke-width:1pt\" transform=\"matrix(0.4,0,0,0.4,4,0)\"/>\n",
       "    </marker>\n",
       "    <marker id=\"DotM\" inkscape:stockid=\"DotM\" orient=\"auto\" refX=\"0\" refY=\"0\" style=\"overflow:visible\">\n",
       "      <path d=\"m -2.5,-1 c 0,2.76 -2.24,5 -5,5 -2.76,0 -5,-2.24 -5,-5 0,-2.76 2.24,-5 5,-5 2.76,0 5,2.24 5,5 z\" id=\"path3864\" inkscape:connector-curvature=\"0\" style=\"fill-rule:evenodd;stroke:#000000;stroke-width:1pt\" transform=\"matrix(0.4,0,0,0.4,2.96,0.4)\"/>\n",
       "    </marker>\n",
       "    <marker id=\"Arrow1Mend\" inkscape:stockid=\"Arrow1Mend\" orient=\"auto\" refX=\"0\" refY=\"0\" style=\"overflow:visible\">\n",
       "      <path d=\"M 0,0 5,-5 -12.5,0 5,5 0,0 z\" id=\"path3809\" inkscape:connector-curvature=\"0\" style=\"fill-rule:evenodd;stroke:#000000;stroke-width:1pt\" transform=\"matrix(-0.4,0,0,-0.4,-4,0)\"/>\n",
       "    </marker>\n",
       "    <marker id=\"Arrow1Mend-3\" inkscape:stockid=\"Arrow1Mend\" orient=\"auto\" refX=\"0\" refY=\"0\" style=\"overflow:visible\">\n",
       "      <path d=\"M 0,0 5,-5 -12.5,0 5,5 0,0 z\" id=\"path3809-6\" inkscape:connector-curvature=\"0\" style=\"fill-rule:evenodd;stroke:#000000;stroke-width:1pt\" transform=\"matrix(-0.4,0,0,-0.4,-4,0)\"/>\n",
       "    </marker>\n",
       "    <marker id=\"Arrow1Mend-2\" inkscape:stockid=\"Arrow1Mend\" orient=\"auto\" refX=\"0\" refY=\"0\" style=\"overflow:visible\">\n",
       "      <path d=\"M 0,0 5,-5 -12.5,0 5,5 0,0 z\" id=\"path3809-7\" inkscape:connector-curvature=\"0\" style=\"fill-rule:evenodd;stroke:#000000;stroke-width:1pt\" transform=\"matrix(-0.4,0,0,-0.4,-4,0)\"/>\n",
       "    </marker>\n",
       "    <marker id=\"Arrow1Mend-9\" inkscape:stockid=\"Arrow1Mend\" orient=\"auto\" refX=\"0\" refY=\"0\" style=\"overflow:visible\">\n",
       "      <path d=\"M 0,0 5,-5 -12.5,0 5,5 0,0 z\" id=\"path3809-3\" inkscape:connector-curvature=\"0\" style=\"fill-rule:evenodd;stroke:#000000;stroke-width:1pt\" transform=\"matrix(-0.4,0,0,-0.4,-4,0)\"/>\n",
       "    </marker>\n",
       "    <marker id=\"Arrow1Mend-92\" inkscape:stockid=\"Arrow1Mend\" orient=\"auto\" refX=\"0\" refY=\"0\" style=\"overflow:visible\">\n",
       "      <path d=\"M 0,0 5,-5 -12.5,0 5,5 0,0 z\" id=\"path3809-2\" inkscape:connector-curvature=\"0\" style=\"fill-rule:evenodd;stroke:#000000;stroke-width:1pt\" transform=\"matrix(-0.4,0,0,-0.4,-4,0)\"/>\n",
       "    </marker>\n",
       "    <marker id=\"DotM-6\" inkscape:stockid=\"DotM\" orient=\"auto\" refX=\"0\" refY=\"0\" style=\"overflow:visible\">\n",
       "      <path d=\"m -2.5,-1 c 0,2.76 -2.24,5 -5,5 -2.76,0 -5,-2.24 -5,-5 0,-2.76 2.24,-5 5,-5 2.76,0 5,2.24 5,5 z\" id=\"path3864-1\" inkscape:connector-curvature=\"0\" style=\"fill-rule:evenodd;stroke:#000000;stroke-width:1pt\" transform=\"matrix(0.4,0,0,0.4,2.96,0.4)\"/>\n",
       "    </marker>\n",
       "    <marker id=\"Arrow1Mend-92-2\" inkscape:stockid=\"Arrow1Mend\" orient=\"auto\" refX=\"0\" refY=\"0\" style=\"overflow:visible\">\n",
       "      <path d=\"M 0,0 5,-5 -12.5,0 5,5 0,0 z\" id=\"path3809-2-9\" inkscape:connector-curvature=\"0\" style=\"fill-rule:evenodd;stroke:#000000;stroke-width:1pt\" transform=\"matrix(-0.4,0,0,-0.4,-4,0)\"/>\n",
       "    </marker>\n",
       "    <marker id=\"Arrow1Mend-1\" inkscape:stockid=\"Arrow1Mend\" orient=\"auto\" refX=\"0\" refY=\"0\" style=\"overflow:visible\">\n",
       "      <path d=\"M 0,0 5,-5 -12.5,0 5,5 0,0 z\" id=\"path3809-9\" inkscape:connector-curvature=\"0\" style=\"fill-rule:evenodd;stroke:#000000;stroke-width:1pt\" transform=\"matrix(-0.4,0,0,-0.4,-4,0)\"/>\n",
       "    </marker>\n",
       "  </defs>\n",
       "  <sodipodi:namedview bordercolor=\"#666666\" borderopacity=\"1.0\" fit-margin-bottom=\"0\" fit-margin-left=\"0\" fit-margin-right=\"0\" fit-margin-top=\"0\" id=\"base\" inkscape:current-layer=\"layer1\" inkscape:cx=\"495.67425\" inkscape:cy=\"-107.04132\" inkscape:document-units=\"px\" inkscape:pageopacity=\"0.0\" inkscape:pageshadow=\"2\" inkscape:window-height=\"934\" inkscape:window-maximized=\"0\" inkscape:window-width=\"1405\" inkscape:window-x=\"472\" inkscape:window-y=\"155\" inkscape:zoom=\"0.85631068\" pagecolor=\"#ffffff\" showgrid=\"false\"/>\n",
       "  <metadata id=\"metadata7\">\n",
       "    <rdf:RDF>\n",
       "      <cc:Work rdf:about=\"\">\n",
       "        <dc:format>image/svg+xml</dc:format>\n",
       "        <dc:type rdf:resource=\"http://purl.org/dc/dcmitype/StillImage\"/>\n",
       "        <dc:title/>\n",
       "      </cc:Work>\n",
       "    </rdf:RDF>\n",
       "  </metadata>\n",
       "  <g id=\"layer1\" inkscape:groupmode=\"layer\" inkscape:label=\"Layer 1\" transform=\"translate(350.90374,-259.393)\">\n",
       "    <text id=\"text2985\" sodipodi:linespacing=\"125%\" style=\"font-size:29.32876396px;font-style:normal;font-variant:normal;font-weight:normal;font-stretch:normal;text-align:center;line-height:125%;letter-spacing:0px;word-spacing:0px;text-anchor:middle;fill:#000000;fill-opacity:1;stroke:none;font-family:Caladea;-inkscape-font-specification:Caladea\" x=\"6.8747559\" xml:space=\"preserve\" y=\"430.18536\"><tspan id=\"tspan2987\" sodipodi:role=\"line\" x=\"6.8747549\" y=\"430.18536\">Control</tspan></text>\n",
       "    <rect height=\"68.588348\" id=\"rect2989\" style=\"fill:none;stroke:#000000;stroke-width:2.59724402;stroke-linecap:round;stroke-linejoin:round;stroke-miterlimit:4;stroke-opacity:1;stroke-dasharray:none;stroke-dashoffset:0\" width=\"190.67561\" x=\"-88.015564\" y=\"385.81677\"/>\n",
       "    <path d=\"m 383.02331,420.11095 81.54813,0\" id=\"path3794-7\" inkscape:connector-curvature=\"0\" style=\"fill:none;stroke:#000000;stroke-width:2.59724402;stroke-linecap:butt;stroke-linejoin:miter;stroke-miterlimit:4;stroke-opacity:1;stroke-dasharray:none;marker-end:url(#Arrow1Mend)\"/>\n",
       "    <text id=\"text3778-5\" sodipodi:linespacing=\"125%\" style=\"font-size:29.32876396px;font-style:normal;font-variant:normal;font-weight:normal;font-stretch:normal;text-align:center;line-height:125%;letter-spacing:0px;word-spacing:0px;text-anchor:middle;fill:#000000;fill-opacity:1;stroke:none;font-family:Caladea;-inkscape-font-specification:Caladea\" x=\"145.08562\" xml:space=\"preserve\" y=\"457.35132\"><tspan id=\"tspan3780-3\" sodipodi:role=\"line\" style=\"font-style:italic;-inkscape-font-specification:Caladea Italic\" x=\"145.08562\" y=\"457.35132\">u</tspan></text>\n",
       "    <text id=\"text3778-5-5\" sodipodi:linespacing=\"125%\" style=\"font-size:29.32876396px;font-style:normal;font-variant:normal;font-weight:normal;font-stretch:normal;text-align:center;line-height:125%;letter-spacing:0px;word-spacing:0px;text-anchor:middle;fill:#000000;fill-opacity:1;stroke:none;font-family:Caladea;-inkscape-font-specification:Caladea\" x=\"462.7489\" xml:space=\"preserve\" y=\"457.35132\"><tspan id=\"tspan3780-3-6\" sodipodi:role=\"line\" style=\"font-style:italic;-inkscape-font-specification:Caladea Italic\" x=\"462.7489\" y=\"457.35132\">c</tspan></text>\n",
       "    <g id=\"g4396\" transform=\"translate(-12,0)\">\n",
       "      <rect height=\"68.588348\" id=\"rect2989-2\" style=\"fill:none;stroke:#000000;stroke-width:2.59724402;stroke-linecap:round;stroke-linejoin:round;stroke-miterlimit:4;stroke-opacity:1;stroke-dasharray:none;stroke-dashoffset:0\" width=\"190.67561\" x=\"204.34702\" y=\"385.81677\"/>\n",
       "      <text id=\"text2985-9\" sodipodi:linespacing=\"125%\" style=\"font-size:29.32876396px;font-style:normal;font-variant:normal;font-weight:normal;font-stretch:normal;text-align:center;line-height:125%;letter-spacing:0px;word-spacing:0px;text-anchor:middle;fill:#000000;fill-opacity:1;stroke:none;font-family:Caladea;-inkscape-font-specification:Caladea\" x=\"299.22861\" xml:space=\"preserve\" y=\"430.18536\"><tspan id=\"tspan2987-1\" sodipodi:role=\"line\" x=\"299.22861\" y=\"430.18536\">Plant</tspan></text>\n",
       "    </g>\n",
       "    <path d=\"m -174.14938,420.11095 81.548125,0\" id=\"path3794-7-0\" inkscape:connector-curvature=\"0\" style=\"fill:none;stroke:#000000;stroke-width:2.59724402;stroke-linecap:butt;stroke-linejoin:miter;stroke-miterlimit:4;stroke-opacity:1;stroke-dasharray:none;marker-end:url(#Arrow1Mend)\"/>\n",
       "    <path d=\"m 102.61933,420.11095 81.54812,0\" id=\"path3794-7-6\" inkscape:connector-curvature=\"0\" style=\"fill:none;stroke:#000000;stroke-width:2.59724402;stroke-linecap:butt;stroke-linejoin:miter;stroke-miterlimit:4;stroke-opacity:1;stroke-dasharray:none;marker-end:url(#Arrow1Mend)\"/>\n",
       "    <text id=\"text3778-5-0\" sodipodi:linespacing=\"125%\" style=\"font-size:29.32876396px;font-style:normal;font-variant:normal;font-weight:normal;font-stretch:normal;text-align:center;line-height:125%;letter-spacing:0px;word-spacing:0px;text-anchor:middle;fill:#000000;fill-opacity:1;stroke:none;font-family:Caladea;-inkscape-font-specification:Caladea\" x=\"-290.23627\" xml:space=\"preserve\" y=\"457.45398\"><tspan id=\"tspan3780-3-62\" sodipodi:role=\"line\" style=\"font-style:italic;-inkscape-font-specification:Caladea Italic\" x=\"-290.23627\" y=\"457.45398\">r</tspan></text>\n",
       "    <text id=\"text2985-6\" sodipodi:linespacing=\"125%\" style=\"font-size:29.32876396px;font-style:normal;font-variant:normal;font-weight:normal;font-stretch:normal;text-align:center;line-height:125%;letter-spacing:0px;word-spacing:0px;text-anchor:middle;fill:#000000;fill-opacity:1;stroke:none;font-family:Caladea;-inkscape-font-specification:Caladea\" x=\"-289.75189\" xml:space=\"preserve\" y=\"357.42877\"><tspan id=\"tspan2987-18\" sodipodi:role=\"line\" x=\"-289.75189\" y=\"357.42877\">Reference</tspan></text>\n",
       "    <text id=\"text2985-6-7\" sodipodi:linespacing=\"125%\" style=\"font-size:29.32876396px;font-style:normal;font-variant:normal;font-weight:normal;font-stretch:normal;text-align:center;line-height:125%;letter-spacing:0px;word-spacing:0px;text-anchor:middle;fill:#000000;fill-opacity:1;stroke:none;font-family:Caladea;-inkscape-font-specification:Caladea\" x=\"144.76781\" xml:space=\"preserve\" y=\"335.81348\"><tspan id=\"tspan2987-18-9\" sodipodi:role=\"line\" x=\"144.76781\" y=\"335.81348\">Control</tspan><tspan id=\"tspan4511\" sodipodi:role=\"line\" x=\"144.76781\" y=\"372.47443\">signal</tspan></text>\n",
       "    <text id=\"text2985-6-7-2\" sodipodi:linespacing=\"125%\" style=\"font-size:29.32876396px;font-style:normal;font-variant:normal;font-weight:normal;font-stretch:normal;text-align:center;line-height:125%;letter-spacing:0px;word-spacing:0px;text-anchor:middle;fill:#000000;fill-opacity:1;stroke:none;font-family:Caladea;-inkscape-font-specification:Caladea\" x=\"462.67694\" xml:space=\"preserve\" y=\"338.92233\"><tspan id=\"tspan4511-2\" sodipodi:role=\"line\" x=\"462.67694\" y=\"338.92233\">Controlled</tspan><tspan id=\"tspan4539\" sodipodi:role=\"line\" x=\"462.67694\" y=\"375.58328\">variable</tspan></text>\n",
       "    <g id=\"g4599\" transform=\"translate(181.00907,-98.095238)\">\n",
       "      <text id=\"text2985-6-3\" sodipodi:linespacing=\"125%\" style=\"font-size:29.32876396px;font-style:normal;font-variant:normal;font-weight:normal;font-stretch:normal;text-align:center;line-height:125%;letter-spacing:0px;word-spacing:0px;text-anchor:middle;fill:#000000;fill-opacity:1;stroke:none;font-family:Caladea;-inkscape-font-specification:Caladea\" x=\"-37.891605\" xml:space=\"preserve\" y=\"659.3703\"><tspan id=\"tspan2987-18-7\" sodipodi:role=\"line\" x=\"-37.891602\" y=\"659.3703\">Transducer</tspan></text>\n",
       "      <rect height=\"68.588348\" id=\"rect2989-5\" style=\"fill:none;stroke:#000000;stroke-width:2.59724402;stroke-linecap:round;stroke-linejoin:round;stroke-miterlimit:4;stroke-opacity:1;stroke-dasharray:none;stroke-dashoffset:0\" width=\"190.67561\" x=\"-132.73174\" y=\"614.9577\"/>\n",
       "    </g>\n",
       "    <path d=\"m 291.43866,300.19634 0,81.54813\" id=\"path3794-7-8\" inkscape:connector-curvature=\"0\" style=\"fill:none;stroke:#000000;stroke-width:2.59724402;stroke-linecap:butt;stroke-linejoin:miter;stroke-miterlimit:4;stroke-opacity:1;stroke-dasharray:none;marker-end:url(#Arrow1Mend)\"/>\n",
       "    <text id=\"text2985-6-9\" sodipodi:linespacing=\"125%\" style=\"font-size:29.32876396px;font-style:normal;font-variant:normal;font-weight:normal;font-stretch:normal;text-align:center;line-height:125%;letter-spacing:0px;word-spacing:0px;text-anchor:middle;fill:#000000;fill-opacity:1;stroke:none;font-family:Caladea;-inkscape-font-specification:Caladea\" x=\"289.09253\" xml:space=\"preserve\" y=\"279.83514\"><tspan id=\"tspan2987-18-73\" sodipodi:role=\"line\" x=\"289.09253\" y=\"279.83514\">Disturbances</tspan></text>\n",
       "    <path d=\"m 210.20408,404.9404 c 0,7.7395 -6.2741,14.0136 -14.0136,14.0136 -7.7395,0 -14.01361,-6.2741 -14.01361,-14.0136 0,-7.7395 6.27411,-14.01361 14.01361,-14.01361 7.7395,0 14.0136,6.27411 14.0136,14.01361 z\" id=\"path4653\" sodipodi:cx=\"196.19048\" sodipodi:cy=\"404.9404\" sodipodi:rx=\"14.013605\" sodipodi:ry=\"14.013605\" sodipodi:type=\"arc\" style=\"fill:none;stroke:#000000;stroke-width:2.59724402;stroke-linecap:round;stroke-linejoin:round;stroke-miterlimit:4;stroke-opacity:1;stroke-dasharray:none;stroke-dashoffset:0\" transform=\"translate(-384.7178,15.170551)\"/>\n",
       "    <path d=\"m 417.60398,419.8225 0,132.68332 -177.59268,0\" id=\"path4655\" inkscape:connector-curvature=\"0\" style=\"fill:none;stroke:#000000;stroke-width:2.59724402;stroke-linecap:butt;stroke-linejoin:miter;stroke-miterlimit:4;stroke-opacity:1;stroke-dasharray:none;marker-start:url(#DotM);marker-end:url(#Arrow1Mend-92)\"/>\n",
       "    <path d=\"m -189.16181,436.61431 0,115.26466 236.606043,0\" id=\"path4655-3\" inkscape:connector-curvature=\"0\" style=\"fill:none;stroke:#000000;stroke-width:2.59724402;stroke-linecap:butt;stroke-linejoin:miter;stroke-miterlimit:4;stroke-opacity:1;stroke-dasharray:none;marker-start:url(#Arrow1Mstart);marker-end:none\"/>\n",
       "    <path d=\"m -288.66537,420.11095 81.54812,0\" id=\"path3794-7-6-4\" inkscape:connector-curvature=\"0\" style=\"fill:none;stroke:#000000;stroke-width:2.59724402;stroke-linecap:butt;stroke-linejoin:miter;stroke-miterlimit:4;stroke-opacity:1;stroke-dasharray:none;marker-end:url(#Arrow1Mend)\"/>\n",
       "    <text id=\"text2985-6-78\" sodipodi:linespacing=\"125%\" style=\"font-size:29.32876396px;font-style:normal;font-variant:normal;font-weight:normal;font-stretch:normal;text-align:center;line-height:125%;letter-spacing:0px;word-spacing:0px;text-anchor:middle;fill:#000000;fill-opacity:1;stroke:none;font-family:Caladea;-inkscape-font-specification:Caladea\" x=\"-139.49023\" xml:space=\"preserve\" y=\"356.81287\"><tspan id=\"tspan2987-18-4\" sodipodi:role=\"line\" x=\"-139.49023\" y=\"356.81287\">Error</tspan></text>\n",
       "    <text id=\"text3778-5-0-5\" sodipodi:linespacing=\"125%\" style=\"font-size:29.32876396px;font-style:normal;font-variant:normal;font-weight:normal;font-stretch:normal;text-align:center;line-height:125%;letter-spacing:0px;word-spacing:0px;text-anchor:middle;fill:#000000;fill-opacity:1;stroke:none;font-family:Caladea;-inkscape-font-specification:Caladea\" x=\"-139.21207\" xml:space=\"preserve\" y=\"457.35132\"><tspan id=\"tspan3780-3-62-0\" sodipodi:role=\"line\" style=\"font-style:italic;-inkscape-font-specification:Caladea Italic\" x=\"-139.21207\" y=\"457.35132\">e</tspan></text>\n",
       "    <text id=\"text3778-5-0-3\" sodipodi:linespacing=\"125%\" style=\"font-size:29.32876396px;font-style:normal;font-variant:normal;font-weight:normal;font-stretch:normal;text-align:center;line-height:125%;letter-spacing:0px;word-spacing:0px;text-anchor:middle;fill:#000000;fill-opacity:1;stroke:none;font-family:Caladea;-inkscape-font-specification:Caladea\" x=\"-219.43721\" xml:space=\"preserve\" y=\"406.88162\"><tspan id=\"tspan3780-3-62-6\" sodipodi:role=\"line\" style=\"font-style:normal;-inkscape-font-specification:Caladea\" x=\"-219.43721\" y=\"406.88162\">+</tspan></text>\n",
       "    <text id=\"text3778-5-0-3-1\" sodipodi:linespacing=\"125%\" style=\"font-size:29.32876396px;font-style:normal;font-variant:normal;font-weight:normal;font-stretch:normal;text-align:center;line-height:125%;letter-spacing:0px;word-spacing:0px;text-anchor:middle;fill:#000000;fill-opacity:1;stroke:none;font-family:Caladea;-inkscape-font-specification:Caladea\" x=\"-207.19872\" xml:space=\"preserve\" y=\"446.92432\"><tspan id=\"tspan3780-3-62-6-0\" sodipodi:role=\"line\" style=\"font-style:normal;-inkscape-font-specification:Caladea\" x=\"-207.19872\" y=\"446.92432\">_</tspan></text>\n",
       "  </g>\n",
       "</svg>"
      ],
      "text/plain": [
       "<IPython.core.display.SVG object>"
      ]
     },
     "execution_count": 3,
     "metadata": {},
     "output_type": "execute_result"
    }
   ],
   "source": [
    "from IPython.display import SVG\n",
    "SVG('img/intro_fig3.svg')"
   ]
  },
  {
   "cell_type": "markdown",
   "metadata": {
    "deletable": true,
    "editable": true
   },
   "source": [
    "Uses feedback from the output to the input."
   ]
  },
  {
   "cell_type": "code",
   "execution_count": 4,
   "metadata": {
    "collapsed": false,
    "deletable": true,
    "editable": true
   },
   "outputs": [
    {
     "data": {
      "image/svg+xml": [
       "<svg height=\"333.62848\" id=\"svg2\" inkscape:version=\"0.48.4 r9939\" sodipodi:docname=\"intro_fig4.svg\" version=\"1.1\" width=\"668.39832\" xmlns=\"http://www.w3.org/2000/svg\" xmlns:cc=\"http://creativecommons.org/ns#\" xmlns:dc=\"http://purl.org/dc/elements/1.1/\" xmlns:inkscape=\"http://www.inkscape.org/namespaces/inkscape\" xmlns:rdf=\"http://www.w3.org/1999/02/22-rdf-syntax-ns#\" xmlns:sodipodi=\"http://sodipodi.sourceforge.net/DTD/sodipodi-0.dtd\" xmlns:svg=\"http://www.w3.org/2000/svg\">\n",
       "  <defs id=\"defs4\">\n",
       "    <marker id=\"Arrow1Mstart\" inkscape:stockid=\"Arrow1Mstart\" orient=\"auto\" refX=\"0\" refY=\"0\" style=\"overflow:visible\">\n",
       "      <path d=\"M 0,0 5,-5 -12.5,0 5,5 0,0 z\" id=\"path3806\" inkscape:connector-curvature=\"0\" style=\"fill-rule:evenodd;stroke:#000000;stroke-width:1pt\" transform=\"matrix(0.4,0,0,0.4,4,0)\"/>\n",
       "    </marker>\n",
       "    <marker id=\"DotM\" inkscape:stockid=\"DotM\" orient=\"auto\" refX=\"0\" refY=\"0\" style=\"overflow:visible\">\n",
       "      <path d=\"m -2.5,-1 c 0,2.76 -2.24,5 -5,5 -2.76,0 -5,-2.24 -5,-5 0,-2.76 2.24,-5 5,-5 2.76,0 5,2.24 5,5 z\" id=\"path3864\" inkscape:connector-curvature=\"0\" style=\"fill-rule:evenodd;stroke:#000000;stroke-width:1pt\" transform=\"matrix(0.4,0,0,0.4,2.96,0.4)\"/>\n",
       "    </marker>\n",
       "    <marker id=\"Arrow1Mend\" inkscape:stockid=\"Arrow1Mend\" orient=\"auto\" refX=\"0\" refY=\"0\" style=\"overflow:visible\">\n",
       "      <path d=\"M 0,0 5,-5 -12.5,0 5,5 0,0 z\" id=\"path3809\" inkscape:connector-curvature=\"0\" style=\"fill-rule:evenodd;stroke:#000000;stroke-width:1pt\" transform=\"matrix(-0.4,0,0,-0.4,-4,0)\"/>\n",
       "    </marker>\n",
       "    <marker id=\"Arrow1Mend-3\" inkscape:stockid=\"Arrow1Mend\" orient=\"auto\" refX=\"0\" refY=\"0\" style=\"overflow:visible\">\n",
       "      <path d=\"M 0,0 5,-5 -12.5,0 5,5 0,0 z\" id=\"path3809-6\" inkscape:connector-curvature=\"0\" style=\"fill-rule:evenodd;stroke:#000000;stroke-width:1pt\" transform=\"matrix(-0.4,0,0,-0.4,-4,0)\"/>\n",
       "    </marker>\n",
       "    <marker id=\"Arrow1Mend-2\" inkscape:stockid=\"Arrow1Mend\" orient=\"auto\" refX=\"0\" refY=\"0\" style=\"overflow:visible\">\n",
       "      <path d=\"M 0,0 5,-5 -12.5,0 5,5 0,0 z\" id=\"path3809-7\" inkscape:connector-curvature=\"0\" style=\"fill-rule:evenodd;stroke:#000000;stroke-width:1pt\" transform=\"matrix(-0.4,0,0,-0.4,-4,0)\"/>\n",
       "    </marker>\n",
       "    <marker id=\"Arrow1Mend-9\" inkscape:stockid=\"Arrow1Mend\" orient=\"auto\" refX=\"0\" refY=\"0\" style=\"overflow:visible\">\n",
       "      <path d=\"M 0,0 5,-5 -12.5,0 5,5 0,0 z\" id=\"path3809-3\" inkscape:connector-curvature=\"0\" style=\"fill-rule:evenodd;stroke:#000000;stroke-width:1pt\" transform=\"matrix(-0.4,0,0,-0.4,-4,0)\"/>\n",
       "    </marker>\n",
       "    <marker id=\"Arrow1Mend-92\" inkscape:stockid=\"Arrow1Mend\" orient=\"auto\" refX=\"0\" refY=\"0\" style=\"overflow:visible\">\n",
       "      <path d=\"M 0,0 5,-5 -12.5,0 5,5 0,0 z\" id=\"path3809-2\" inkscape:connector-curvature=\"0\" style=\"fill-rule:evenodd;stroke:#000000;stroke-width:1pt\" transform=\"matrix(-0.4,0,0,-0.4,-4,0)\"/>\n",
       "    </marker>\n",
       "    <marker id=\"DotM-6\" inkscape:stockid=\"DotM\" orient=\"auto\" refX=\"0\" refY=\"0\" style=\"overflow:visible\">\n",
       "      <path d=\"m -2.5,-1 c 0,2.76 -2.24,5 -5,5 -2.76,0 -5,-2.24 -5,-5 0,-2.76 2.24,-5 5,-5 2.76,0 5,2.24 5,5 z\" id=\"path3864-1\" inkscape:connector-curvature=\"0\" style=\"fill-rule:evenodd;stroke:#000000;stroke-width:1pt\" transform=\"matrix(0.4,0,0,0.4,2.96,0.4)\"/>\n",
       "    </marker>\n",
       "    <marker id=\"Arrow1Mend-92-2\" inkscape:stockid=\"Arrow1Mend\" orient=\"auto\" refX=\"0\" refY=\"0\" style=\"overflow:visible\">\n",
       "      <path d=\"M 0,0 5,-5 -12.5,0 5,5 0,0 z\" id=\"path3809-2-9\" inkscape:connector-curvature=\"0\" style=\"fill-rule:evenodd;stroke:#000000;stroke-width:1pt\" transform=\"matrix(-0.4,0,0,-0.4,-4,0)\"/>\n",
       "    </marker>\n",
       "    <marker id=\"Arrow1Mend-1\" inkscape:stockid=\"Arrow1Mend\" orient=\"auto\" refX=\"0\" refY=\"0\" style=\"overflow:visible\">\n",
       "      <path d=\"M 0,0 5,-5 -12.5,0 5,5 0,0 z\" id=\"path3809-9\" inkscape:connector-curvature=\"0\" style=\"fill-rule:evenodd;stroke:#000000;stroke-width:1pt\" transform=\"matrix(-0.4,0,0,-0.4,-4,0)\"/>\n",
       "    </marker>\n",
       "  </defs>\n",
       "  <sodipodi:namedview bordercolor=\"#666666\" borderopacity=\"1.0\" fit-margin-bottom=\"0\" fit-margin-left=\"0\" fit-margin-right=\"0\" fit-margin-top=\"0\" id=\"base\" inkscape:current-layer=\"layer1\" inkscape:cx=\"344.03139\" inkscape:cy=\"305.62529\" inkscape:document-units=\"px\" inkscape:pageopacity=\"0.0\" inkscape:pageshadow=\"2\" inkscape:window-height=\"934\" inkscape:window-maximized=\"0\" inkscape:window-width=\"1405\" inkscape:window-x=\"638\" inkscape:window-y=\"174\" inkscape:zoom=\"0.85631068\" pagecolor=\"#ffffff\" showgrid=\"false\"/>\n",
       "  <metadata id=\"metadata7\">\n",
       "    <rdf:RDF>\n",
       "      <cc:Work rdf:about=\"\">\n",
       "        <dc:format>image/svg+xml</dc:format>\n",
       "        <dc:type rdf:resource=\"http://purl.org/dc/dcmitype/StillImage\"/>\n",
       "        <dc:title/>\n",
       "      </cc:Work>\n",
       "    </rdf:RDF>\n",
       "  </metadata>\n",
       "  <g id=\"layer1\" inkscape:groupmode=\"layer\" inkscape:label=\"Layer 1\" transform=\"translate(199.26088,-665.78759)\">\n",
       "    <g id=\"g5992\">\n",
       "      <text id=\"text3778-5-5\" sodipodi:linespacing=\"125%\" style=\"font-size:29.32876396px;font-style:normal;font-variant:normal;font-weight:normal;font-stretch:normal;text-align:center;line-height:125%;letter-spacing:0px;word-spacing:0px;text-anchor:middle;fill:#000000;fill-opacity:1;stroke:none;font-family:Caladea;-inkscape-font-specification:Caladea\" x=\"455.7421\" xml:space=\"preserve\" y=\"999.21075\"><tspan id=\"tspan3780-3-6\" sodipodi:role=\"line\" style=\"font-style:italic;-inkscape-font-specification:Caladea Italic\" x=\"455.7421\" y=\"999.21075\">t</tspan></text>\n",
       "      <text id=\"text3778-5-0\" sodipodi:linespacing=\"125%\" style=\"font-size:29.32876396px;font-style:normal;font-variant:normal;font-weight:normal;font-stretch:normal;text-align:center;line-height:125%;letter-spacing:0px;word-spacing:0px;text-anchor:middle;fill:#000000;fill-opacity:1;stroke:none;font-family:Caladea;-inkscape-font-specification:Caladea\" x=\"-194.47662\" xml:space=\"preserve\" y=\"797.28394\"><tspan id=\"tspan3780-3-62\" sodipodi:role=\"line\" style=\"font-style:italic;-inkscape-font-specification:Caladea Italic\" x=\"-194.47662\" y=\"797.28394\">r</tspan></text>\n",
       "      <text id=\"text2985-6\" sodipodi:linespacing=\"125%\" style=\"font-size:29.32876396px;font-style:normal;font-variant:normal;font-weight:normal;font-stretch:normal;text-align:center;line-height:125%;letter-spacing:0px;word-spacing:0px;text-anchor:middle;fill:#000000;fill-opacity:1;stroke:none;font-family:Caladea;-inkscape-font-specification:Caladea\" x=\"388.74017\" xml:space=\"preserve\" y=\"901.62378\"><tspan id=\"tspan2987-18\" sodipodi:role=\"line\" x=\"388.74017\" y=\"901.62378\">Open-loop</tspan></text>\n",
       "      <text id=\"text2985-6-7-2\" sodipodi:linespacing=\"125%\" style=\"font-size:29.32876396px;font-style:normal;font-variant:normal;font-weight:normal;font-stretch:normal;text-align:center;line-height:125%;letter-spacing:0px;word-spacing:0px;text-anchor:middle;fill:#000000;fill-opacity:1;stroke:none;font-family:Caladea;-inkscape-font-specification:Caladea\" x=\"-88.524864\" xml:space=\"preserve\" y=\"706.77948\"><tspan id=\"tspan4539\" sodipodi:role=\"line\" x=\"-88.524864\" y=\"706.77948\">Variable</tspan></text>\n",
       "      <path d=\"m 272.75385,698.41629 0,81.54813\" id=\"path3794-7-8\" inkscape:connector-curvature=\"0\" style=\"fill:none;stroke:#000000;stroke-width:2.59724402;stroke-linecap:butt;stroke-linejoin:miter;stroke-miterlimit:4;stroke-opacity:1;stroke-dasharray:none;marker-end:url(#Arrow1Mend)\"/>\n",
       "      <text id=\"text2985-6-9\" sodipodi:linespacing=\"125%\" style=\"font-size:29.32876396px;font-style:normal;font-variant:normal;font-weight:normal;font-stretch:normal;text-align:center;line-height:125%;letter-spacing:0px;word-spacing:0px;text-anchor:middle;fill:#000000;fill-opacity:1;stroke:none;font-family:Caladea;-inkscape-font-specification:Caladea\" x=\"278.58234\" xml:space=\"preserve\" y=\"686.22974\"><tspan id=\"tspan2987-18-73\" sodipodi:role=\"line\" x=\"278.58234\" y=\"686.22974\">Disturbance</tspan></text>\n",
       "      <path d=\"m -159.01001,692.07778 0,276.10074 624.67497,0\" id=\"path4655-3\" inkscape:connector-curvature=\"0\" style=\"fill:none;stroke:#000000;stroke-width:2.59724402;stroke-linecap:butt;stroke-linejoin:miter;stroke-miterlimit:4;stroke-opacity:1;stroke-dasharray:none;marker-start:url(#Arrow1Mstart);marker-end:url(#Arrow1Mend-1)\"/>\n",
       "      <text id=\"text2985-6-78\" sodipodi:linespacing=\"125%\" style=\"font-size:29.32876396px;font-style:normal;font-variant:normal;font-weight:normal;font-stretch:normal;text-align:center;line-height:125%;letter-spacing:0px;word-spacing:0px;text-anchor:middle;fill:#000000;fill-opacity:1;stroke:none;font-family:Caladea;-inkscape-font-specification:Caladea\" x=\"396.53018\" xml:space=\"preserve\" y=\"770.21423\"><tspan id=\"tspan2987-18-4\" sodipodi:role=\"line\" x=\"396.53018\" y=\"770.21423\">Closed-loop</tspan></text>\n",
       "      <path d=\"m 177.50567,532.88933 615.43084,0\" id=\"path5984\" inkscape:connector-curvature=\"0\" style=\"fill:none;stroke:#ff0000;stroke-width:1.70787406;stroke-linecap:butt;stroke-linejoin:miter;stroke-miterlimit:4;stroke-opacity:1;stroke-dasharray:1.70787402, 3.41574803;stroke-dashoffset:0\" transform=\"translate(-350.90374,259.393)\"/>\n",
       "      <path d=\"M 192.68707,706.89159 374.86395,537.56053 c 0,0 5.8063,-7.43326 9.3424,-10.51021 7.41158,-6.44921 14.70188,-16.58018 24.52381,-16.3492 9.18449,0.21599 14.75208,10.95426 22.18821,16.3492 5.42082,3.93283 9.73457,10.62964 16.3492,11.67801 7.66047,1.21413 14.52722,-5.79597 22.18821,-7.00681 53.87358,0.21344 152.98186,-1.1678 152.98186,-1.1678 0,0 6.49633,6.92158 10.51021,9.34241 2.84801,1.71768 6.04286,3.92128 9.3424,3.5034 4.71395,-0.59701 7.27948,-6.37716 11.678,-8.1746 4.38374,-1.7914 14.01361,-2.3356 14.01361,-2.3356 l 85.24943,0\" id=\"path5986\" inkscape:connector-curvature=\"0\" sodipodi:nodetypes=\"ccssssccssscc\" style=\"fill:none;stroke:#0000ff;stroke-width:3.47952747;stroke-linecap:butt;stroke-linejoin:miter;stroke-miterlimit:4;stroke-opacity:1;stroke-dasharray:none\" transform=\"translate(-350.90374,259.393)\"/>\n",
       "      <path d=\"m 621.26984,529.38592 11.67801,81.74604 c 0,0 3.50898,5.05379 5.839,7.0068 2.4052,2.01603 5.064,5.08777 8.1746,4.6712 2.72818,-0.36535 3.71035,-4.09393 5.839,-5.839 3.25621,-2.66945 10.51021,-7.0068 10.51021,-7.0068 l 88.75283,0\" id=\"path5988\" inkscape:connector-curvature=\"0\" sodipodi:nodetypes=\"ccssscc\" style=\"fill:none;stroke:#0000ff;stroke-width:3.47952747;stroke-linecap:butt;stroke-linejoin:miter;stroke-miterlimit:4;stroke-opacity:1;stroke-dasharray:6.95905512, 6.95905512;stroke-dashoffset:0\" transform=\"translate(-350.90374,259.393)\"/>\n",
       "    </g>\n",
       "  </g>\n",
       "</svg>"
      ],
      "text/plain": [
       "<IPython.core.display.SVG object>"
      ]
     },
     "execution_count": 4,
     "metadata": {},
     "output_type": "execute_result"
    }
   ],
   "source": [
    "from IPython.display import SVG\n",
    "SVG('img/intro_fig4.svg')"
   ]
  },
  {
   "cell_type": "markdown",
   "metadata": {
    "deletable": true,
    "editable": true
   },
   "source": [
    "For example, what happens in an elevator in both cases? And in the system of opening and closing of a door?"
   ]
  },
  {
   "cell_type": "markdown",
   "metadata": {
    "deletable": true,
    "editable": true
   },
   "source": [
    "The feedback has the following goals:\n",
    "- Reduce error between reference input and output.\n",
    "- Ensure stability."
   ]
  },
  {
   "cell_type": "markdown",
   "metadata": {
    "deletable": true,
    "editable": true
   },
   "source": [
    "Many times a physical plant can have feedback when analyzed in detail. When the variables of a system exhibit a closed sequence of cause and effect relationships, the system has feedback (input and output are related). For example, for the system:"
   ]
  },
  {
   "cell_type": "code",
   "execution_count": 5,
   "metadata": {
    "collapsed": false,
    "deletable": true,
    "editable": true
   },
   "outputs": [
    {
     "data": {
      "image/svg+xml": [
       "<svg height=\"202.23131\" id=\"svg2\" inkscape:version=\"0.48.4 r9939\" sodipodi:docname=\"intro_fig5.svg\" version=\"1.1\" width=\"485.43582\" xmlns=\"http://www.w3.org/2000/svg\" xmlns:cc=\"http://creativecommons.org/ns#\" xmlns:dc=\"http://purl.org/dc/elements/1.1/\" xmlns:inkscape=\"http://www.inkscape.org/namespaces/inkscape\" xmlns:rdf=\"http://www.w3.org/1999/02/22-rdf-syntax-ns#\" xmlns:sodipodi=\"http://sodipodi.sourceforge.net/DTD/sodipodi-0.dtd\" xmlns:svg=\"http://www.w3.org/2000/svg\">\n",
       "  <defs id=\"defs4\">\n",
       "    <marker id=\"Arrow1Mstart\" inkscape:stockid=\"Arrow1Mstart\" orient=\"auto\" refX=\"0\" refY=\"0\" style=\"overflow:visible\">\n",
       "      <path d=\"M 0,0 5,-5 -12.5,0 5,5 0,0 z\" id=\"path3806\" inkscape:connector-curvature=\"0\" style=\"fill-rule:evenodd;stroke:#000000;stroke-width:1pt\" transform=\"matrix(0.4,0,0,0.4,4,0)\"/>\n",
       "    </marker>\n",
       "    <marker id=\"DotM\" inkscape:stockid=\"DotM\" orient=\"auto\" refX=\"0\" refY=\"0\" style=\"overflow:visible\">\n",
       "      <path d=\"m -2.5,-1 c 0,2.76 -2.24,5 -5,5 -2.76,0 -5,-2.24 -5,-5 0,-2.76 2.24,-5 5,-5 2.76,0 5,2.24 5,5 z\" id=\"path3864\" inkscape:connector-curvature=\"0\" style=\"fill-rule:evenodd;stroke:#000000;stroke-width:1pt\" transform=\"matrix(0.4,0,0,0.4,2.96,0.4)\"/>\n",
       "    </marker>\n",
       "    <marker id=\"Arrow1Mend\" inkscape:stockid=\"Arrow1Mend\" orient=\"auto\" refX=\"0\" refY=\"0\" style=\"overflow:visible\">\n",
       "      <path d=\"M 0,0 5,-5 -12.5,0 5,5 0,0 z\" id=\"path3809\" inkscape:connector-curvature=\"0\" style=\"fill-rule:evenodd;stroke:#000000;stroke-width:1pt\" transform=\"matrix(-0.4,0,0,-0.4,-4,0)\"/>\n",
       "    </marker>\n",
       "    <marker id=\"Arrow1Mend-3\" inkscape:stockid=\"Arrow1Mend\" orient=\"auto\" refX=\"0\" refY=\"0\" style=\"overflow:visible\">\n",
       "      <path d=\"M 0,0 5,-5 -12.5,0 5,5 0,0 z\" id=\"path3809-6\" inkscape:connector-curvature=\"0\" style=\"fill-rule:evenodd;stroke:#000000;stroke-width:1pt\" transform=\"matrix(-0.4,0,0,-0.4,-4,0)\"/>\n",
       "    </marker>\n",
       "    <marker id=\"Arrow1Mend-2\" inkscape:stockid=\"Arrow1Mend\" orient=\"auto\" refX=\"0\" refY=\"0\" style=\"overflow:visible\">\n",
       "      <path d=\"M 0,0 5,-5 -12.5,0 5,5 0,0 z\" id=\"path3809-7\" inkscape:connector-curvature=\"0\" style=\"fill-rule:evenodd;stroke:#000000;stroke-width:1pt\" transform=\"matrix(-0.4,0,0,-0.4,-4,0)\"/>\n",
       "    </marker>\n",
       "    <marker id=\"Arrow1Mend-9\" inkscape:stockid=\"Arrow1Mend\" orient=\"auto\" refX=\"0\" refY=\"0\" style=\"overflow:visible\">\n",
       "      <path d=\"M 0,0 5,-5 -12.5,0 5,5 0,0 z\" id=\"path3809-3\" inkscape:connector-curvature=\"0\" style=\"fill-rule:evenodd;stroke:#000000;stroke-width:1pt\" transform=\"matrix(-0.4,0,0,-0.4,-4,0)\"/>\n",
       "    </marker>\n",
       "    <marker id=\"Arrow1Mend-92\" inkscape:stockid=\"Arrow1Mend\" orient=\"auto\" refX=\"0\" refY=\"0\" style=\"overflow:visible\">\n",
       "      <path d=\"M 0,0 5,-5 -12.5,0 5,5 0,0 z\" id=\"path3809-2\" inkscape:connector-curvature=\"0\" style=\"fill-rule:evenodd;stroke:#000000;stroke-width:1pt\" transform=\"matrix(-0.4,0,0,-0.4,-4,0)\"/>\n",
       "    </marker>\n",
       "    <marker id=\"DotM-6\" inkscape:stockid=\"DotM\" orient=\"auto\" refX=\"0\" refY=\"0\" style=\"overflow:visible\">\n",
       "      <path d=\"m -2.5,-1 c 0,2.76 -2.24,5 -5,5 -2.76,0 -5,-2.24 -5,-5 0,-2.76 2.24,-5 5,-5 2.76,0 5,2.24 5,5 z\" id=\"path3864-1\" inkscape:connector-curvature=\"0\" style=\"fill-rule:evenodd;stroke:#000000;stroke-width:1pt\" transform=\"matrix(0.4,0,0,0.4,2.96,0.4)\"/>\n",
       "    </marker>\n",
       "    <marker id=\"Arrow1Mend-92-2\" inkscape:stockid=\"Arrow1Mend\" orient=\"auto\" refX=\"0\" refY=\"0\" style=\"overflow:visible\">\n",
       "      <path d=\"M 0,0 5,-5 -12.5,0 5,5 0,0 z\" id=\"path3809-2-9\" inkscape:connector-curvature=\"0\" style=\"fill-rule:evenodd;stroke:#000000;stroke-width:1pt\" transform=\"matrix(-0.4,0,0,-0.4,-4,0)\"/>\n",
       "    </marker>\n",
       "    <marker id=\"Arrow1Mend-1\" inkscape:stockid=\"Arrow1Mend\" orient=\"auto\" refX=\"0\" refY=\"0\" style=\"overflow:visible\">\n",
       "      <path d=\"M 0,0 5,-5 -12.5,0 5,5 0,0 z\" id=\"path3809-9\" inkscape:connector-curvature=\"0\" style=\"fill-rule:evenodd;stroke:#000000;stroke-width:1pt\" transform=\"matrix(-0.4,0,0,-0.4,-4,0)\"/>\n",
       "    </marker>\n",
       "  </defs>\n",
       "  <sodipodi:namedview bordercolor=\"#666666\" borderopacity=\"1.0\" fit-margin-bottom=\"0\" fit-margin-left=\"0\" fit-margin-right=\"0\" fit-margin-top=\"0\" id=\"base\" inkscape:current-layer=\"layer1\" inkscape:cx=\"241.26495\" inkscape:cy=\"-110.54471\" inkscape:document-units=\"px\" inkscape:pageopacity=\"0.0\" inkscape:pageshadow=\"2\" inkscape:window-height=\"934\" inkscape:window-maximized=\"0\" inkscape:window-width=\"1405\" inkscape:window-x=\"472\" inkscape:window-y=\"155\" inkscape:zoom=\"0.85631068\" pagecolor=\"#ffffff\" showgrid=\"false\"/>\n",
       "  <metadata id=\"metadata7\">\n",
       "    <rdf:RDF>\n",
       "      <cc:Work rdf:about=\"\">\n",
       "        <dc:format>image/svg+xml</dc:format>\n",
       "        <dc:type rdf:resource=\"http://purl.org/dc/dcmitype/StillImage\"/>\n",
       "        <dc:title/>\n",
       "      </cc:Work>\n",
       "    </rdf:RDF>\n",
       "  </metadata>\n",
       "  <g id=\"layer1\" inkscape:groupmode=\"layer\" inkscape:label=\"Layer 1\" transform=\"translate(295.02052,-384.51815)\">\n",
       "    <path d=\"m 105.02331,420.11095 81.54813,0\" id=\"path3794-7\" inkscape:connector-curvature=\"0\" style=\"fill:none;stroke:#000000;stroke-width:2.59724402;stroke-linecap:butt;stroke-linejoin:miter;stroke-miterlimit:4;stroke-opacity:1;stroke-dasharray:none;marker-end:url(#Arrow1Mend)\"/>\n",
       "    <text id=\"text3778-5-5\" sodipodi:linespacing=\"125%\" style=\"font-size:29.32876396px;font-style:normal;font-variant:normal;font-weight:normal;font-stretch:normal;text-align:center;line-height:125%;letter-spacing:0px;word-spacing:0px;text-anchor:middle;fill:#000000;fill-opacity:1;stroke:none;font-family:Caladea;-inkscape-font-specification:Caladea\" x=\"184.7489\" xml:space=\"preserve\" y=\"401.35132\"><tspan id=\"tspan3780-3-6\" sodipodi:role=\"line\" style=\"font-style:italic;-inkscape-font-specification:Caladea Italic\" x=\"184.7489\" y=\"401.35132\">c</tspan></text>\n",
       "    <g id=\"g3898\" transform=\"translate(-248,0)\">\n",
       "      <rect height=\"68.588348\" id=\"rect2989-2\" style=\"fill:none;stroke:#000000;stroke-width:2.59724402;stroke-linecap:round;stroke-linejoin:round;stroke-miterlimit:4;stroke-opacity:1;stroke-dasharray:none;stroke-dashoffset:0\" width=\"190.67561\" x=\"162.34702\" y=\"385.81677\"/>\n",
       "      <text id=\"text2985-9\" sodipodi:linespacing=\"125%\" style=\"font-size:29.32876396px;font-style:normal;font-variant:normal;font-weight:normal;font-stretch:normal;text-align:center;line-height:125%;letter-spacing:0px;word-spacing:0px;text-anchor:middle;fill:#000000;fill-opacity:1;stroke:none;font-family:Caladea;-inkscape-font-specification:Caladea\" x=\"257.7923\" xml:space=\"preserve\" y=\"429.92142\"><tspan id=\"tspan2987-1\" sodipodi:role=\"line\" x=\"257.7923\" y=\"429.92142\">G</tspan></text>\n",
       "    </g>\n",
       "    <path d=\"m -174.14938,420.11095 81.548125,0\" id=\"path3794-7-0\" inkscape:connector-curvature=\"0\" style=\"fill:none;stroke:#000000;stroke-width:2.59724402;stroke-linecap:butt;stroke-linejoin:miter;stroke-miterlimit:4;stroke-opacity:1;stroke-dasharray:none;marker-end:url(#Arrow1Mend)\"/>\n",
       "    <text id=\"text3778-5-0\" sodipodi:linespacing=\"125%\" style=\"font-size:29.32876396px;font-style:normal;font-variant:normal;font-weight:normal;font-stretch:normal;text-align:center;line-height:125%;letter-spacing:0px;word-spacing:0px;text-anchor:middle;fill:#000000;fill-opacity:1;stroke:none;font-family:Caladea;-inkscape-font-specification:Caladea\" x=\"-290.23627\" xml:space=\"preserve\" y=\"401.45398\"><tspan id=\"tspan3780-3-62\" sodipodi:role=\"line\" style=\"font-style:italic;-inkscape-font-specification:Caladea Italic\" x=\"-290.23627\" y=\"401.45398\">r</tspan></text>\n",
       "    <g id=\"g3903\" transform=\"translate(-169.93032,0)\">\n",
       "      <text id=\"text2985-6-3\" sodipodi:linespacing=\"125%\" style=\"font-size:29.32876396px;font-style:normal;font-variant:normal;font-weight:normal;font-stretch:normal;text-align:center;line-height:125%;letter-spacing:0px;word-spacing:0px;text-anchor:middle;fill:#000000;fill-opacity:1;stroke:none;font-family:Caladea;-inkscape-font-specification:Caladea\" x=\"143.11746\" xml:space=\"preserve\" y=\"561.27509\"><tspan id=\"tspan2987-18-7\" sodipodi:role=\"line\" x=\"143.11746\" y=\"561.27509\">H</tspan></text>\n",
       "      <rect height=\"68.588348\" id=\"rect2989-5\" style=\"fill:none;stroke:#000000;stroke-width:2.59724402;stroke-linecap:round;stroke-linejoin:round;stroke-miterlimit:4;stroke-opacity:1;stroke-dasharray:none;stroke-dashoffset:0\" width=\"190.67561\" x=\"48.277336\" y=\"516.86249\"/>\n",
       "    </g>\n",
       "    <path d=\"m 210.20408,404.9404 c 0,7.7395 -6.2741,14.0136 -14.0136,14.0136 -7.7395,0 -14.01361,-6.2741 -14.01361,-14.0136 0,-7.7395 6.27411,-14.01361 14.01361,-14.01361 7.7395,0 14.0136,6.27411 14.0136,14.01361 z\" id=\"path4653\" sodipodi:cx=\"196.19048\" sodipodi:cy=\"404.9404\" sodipodi:rx=\"14.013605\" sodipodi:ry=\"14.013605\" sodipodi:type=\"arc\" style=\"fill:none;stroke:#000000;stroke-width:2.59724402;stroke-linecap:round;stroke-linejoin:round;stroke-miterlimit:4;stroke-opacity:1;stroke-dasharray:none;stroke-dashoffset:0\" transform=\"translate(-384.7178,15.170551)\"/>\n",
       "    <path d=\"m 142.757,419.38736 0,133.55428 -72.589839,0\" id=\"path4655\" inkscape:connector-curvature=\"0\" style=\"fill:none;stroke:#000000;stroke-width:2.59724402;stroke-linecap:butt;stroke-linejoin:miter;stroke-miterlimit:4;stroke-opacity:1;stroke-dasharray:none;marker-start:url(#DotM);marker-end:url(#Arrow1Mend-92)\"/>\n",
       "    <path d=\"m -189.26554,435.95907 0,116.59757 68.05625,0\" id=\"path4655-3\" inkscape:connector-curvature=\"0\" style=\"fill:none;stroke:#000000;stroke-width:2.59724402;stroke-linecap:butt;stroke-linejoin:miter;stroke-miterlimit:4;stroke-opacity:1;stroke-dasharray:none;marker-start:url(#Arrow1Mstart);marker-end:none\"/>\n",
       "    <path d=\"m -288.66537,420.11095 81.54812,0\" id=\"path3794-7-6-4\" inkscape:connector-curvature=\"0\" style=\"fill:none;stroke:#000000;stroke-width:2.59724402;stroke-linecap:butt;stroke-linejoin:miter;stroke-miterlimit:4;stroke-opacity:1;stroke-dasharray:none;marker-end:url(#Arrow1Mend)\"/>\n",
       "    <text id=\"text3778-5-0-5\" sodipodi:linespacing=\"125%\" style=\"font-size:29.32876396px;font-style:normal;font-variant:normal;font-weight:normal;font-stretch:normal;text-align:center;line-height:125%;letter-spacing:0px;word-spacing:0px;text-anchor:middle;fill:#000000;fill-opacity:1;stroke:none;font-family:Caladea;-inkscape-font-specification:Caladea\" x=\"-139.21207\" xml:space=\"preserve\" y=\"401.35132\"><tspan id=\"tspan3780-3-62-0\" sodipodi:role=\"line\" style=\"font-style:italic;-inkscape-font-specification:Caladea Italic\" x=\"-139.21207\" y=\"401.35132\">e</tspan></text>\n",
       "    <text id=\"text3778-5-0-3\" sodipodi:linespacing=\"125%\" style=\"font-size:29.32876396px;font-style:normal;font-variant:normal;font-weight:normal;font-stretch:normal;text-align:center;line-height:125%;letter-spacing:0px;word-spacing:0px;text-anchor:middle;fill:#000000;fill-opacity:1;stroke:none;font-family:Caladea;-inkscape-font-specification:Caladea\" x=\"-219.43721\" xml:space=\"preserve\" y=\"406.88162\"><tspan id=\"tspan3780-3-62-6\" sodipodi:role=\"line\" style=\"font-style:normal;-inkscape-font-specification:Caladea\" x=\"-219.43721\" y=\"406.88162\">+</tspan></text>\n",
       "    <text id=\"text3778-5-0-3-1\" sodipodi:linespacing=\"125%\" style=\"font-size:29.32876396px;font-style:normal;font-variant:normal;font-weight:normal;font-stretch:normal;text-align:center;line-height:125%;letter-spacing:0px;word-spacing:0px;text-anchor:middle;fill:#000000;fill-opacity:1;stroke:none;font-family:Caladea;-inkscape-font-specification:Caladea\" x=\"-207.19872\" xml:space=\"preserve\" y=\"446.92432\"><tspan id=\"tspan3780-3-62-6-0\" sodipodi:role=\"line\" style=\"font-style:normal;-inkscape-font-specification:Caladea\" x=\"-207.19872\" y=\"446.92432\">_</tspan></text>\n",
       "  </g>\n",
       "</svg>"
      ],
      "text/plain": [
       "<IPython.core.display.SVG object>"
      ]
     },
     "execution_count": 5,
     "metadata": {},
     "output_type": "execute_result"
    }
   ],
   "source": [
    "from IPython.display import SVG\n",
    "SVG('img/intro_fig5.svg')"
   ]
  },
  {
   "cell_type": "markdown",
   "metadata": {
    "deletable": true,
    "editable": true
   },
   "source": [
    "It can be shown that its transfer function is:"
   ]
  },
  {
   "cell_type": "markdown",
   "metadata": {
    "deletable": true,
    "editable": true
   },
   "source": [
    "$$\\frac{c}{r} = \\frac{G}{1+GH}$$"
   ]
  },
  {
   "cell_type": "markdown",
   "metadata": {
    "deletable": true,
    "editable": true
   },
   "source": [
    "**Effect of feedback on gain:** From the above equation it is observed that the gain of the system is affected by a factor of $1+GH$. $G$ and $H$ are functions of the frequency, so that the gain can increase in some frequencies and decrease in others."
   ]
  },
  {
   "cell_type": "markdown",
   "metadata": {
    "deletable": true,
    "editable": true
   },
   "source": [
    "**Effect of feedback on stability:** Stability is a concept that indicates the ability of a system to follow a control input. A system is unstable when its output is out of control or increases without limits. Again let's look at the equation when $GH = -1$. The output of the system is infinite for any finite input. Therefore, it can be said that feedback can cause instability in a system. It should be noted that this is not the only condition of instability."
   ]
  },
  {
   "cell_type": "markdown",
   "metadata": {
    "deletable": true,
    "editable": true
   },
   "source": [
    "If the plant has $GH = -1$, and it is inevitable, it is possible to add another feedback loop, obtaining a new transfer function. Therefore, the global system can be stable if $F$ is properly selected."
   ]
  },
  {
   "cell_type": "code",
   "execution_count": 6,
   "metadata": {
    "collapsed": false,
    "deletable": true,
    "editable": true
   },
   "outputs": [
    {
     "data": {
      "image/svg+xml": [
       "<svg height=\"315.77194\" id=\"svg2\" inkscape:version=\"0.48.4 r9939\" sodipodi:docname=\"intro_fig6.svg\" version=\"1.1\" width=\"640.25177\" xmlns=\"http://www.w3.org/2000/svg\" xmlns:cc=\"http://creativecommons.org/ns#\" xmlns:dc=\"http://purl.org/dc/elements/1.1/\" xmlns:inkscape=\"http://www.inkscape.org/namespaces/inkscape\" xmlns:rdf=\"http://www.w3.org/1999/02/22-rdf-syntax-ns#\" xmlns:sodipodi=\"http://sodipodi.sourceforge.net/DTD/sodipodi-0.dtd\" xmlns:svg=\"http://www.w3.org/2000/svg\">\n",
       "  <defs id=\"defs4\">\n",
       "    <marker id=\"Arrow1Mstart\" inkscape:stockid=\"Arrow1Mstart\" orient=\"auto\" refX=\"0\" refY=\"0\" style=\"overflow:visible\">\n",
       "      <path d=\"M 0,0 5,-5 -12.5,0 5,5 0,0 z\" id=\"path3806\" inkscape:connector-curvature=\"0\" style=\"fill-rule:evenodd;stroke:#000000;stroke-width:1pt\" transform=\"matrix(0.4,0,0,0.4,4,0)\"/>\n",
       "    </marker>\n",
       "    <marker id=\"DotM\" inkscape:stockid=\"DotM\" orient=\"auto\" refX=\"0\" refY=\"0\" style=\"overflow:visible\">\n",
       "      <path d=\"m -2.5,-1 c 0,2.76 -2.24,5 -5,5 -2.76,0 -5,-2.24 -5,-5 0,-2.76 2.24,-5 5,-5 2.76,0 5,2.24 5,5 z\" id=\"path3864\" inkscape:connector-curvature=\"0\" style=\"fill-rule:evenodd;stroke:#000000;stroke-width:1pt\" transform=\"matrix(0.4,0,0,0.4,2.96,0.4)\"/>\n",
       "    </marker>\n",
       "    <marker id=\"Arrow1Mend\" inkscape:stockid=\"Arrow1Mend\" orient=\"auto\" refX=\"0\" refY=\"0\" style=\"overflow:visible\">\n",
       "      <path d=\"M 0,0 5,-5 -12.5,0 5,5 0,0 z\" id=\"path3809\" inkscape:connector-curvature=\"0\" style=\"fill-rule:evenodd;stroke:#000000;stroke-width:1pt\" transform=\"matrix(-0.4,0,0,-0.4,-4,0)\"/>\n",
       "    </marker>\n",
       "    <marker id=\"Arrow1Mend-3\" inkscape:stockid=\"Arrow1Mend\" orient=\"auto\" refX=\"0\" refY=\"0\" style=\"overflow:visible\">\n",
       "      <path d=\"M 0,0 5,-5 -12.5,0 5,5 0,0 z\" id=\"path3809-6\" inkscape:connector-curvature=\"0\" style=\"fill-rule:evenodd;stroke:#000000;stroke-width:1pt\" transform=\"matrix(-0.4,0,0,-0.4,-4,0)\"/>\n",
       "    </marker>\n",
       "    <marker id=\"Arrow1Mend-2\" inkscape:stockid=\"Arrow1Mend\" orient=\"auto\" refX=\"0\" refY=\"0\" style=\"overflow:visible\">\n",
       "      <path d=\"M 0,0 5,-5 -12.5,0 5,5 0,0 z\" id=\"path3809-7\" inkscape:connector-curvature=\"0\" style=\"fill-rule:evenodd;stroke:#000000;stroke-width:1pt\" transform=\"matrix(-0.4,0,0,-0.4,-4,0)\"/>\n",
       "    </marker>\n",
       "    <marker id=\"Arrow1Mend-9\" inkscape:stockid=\"Arrow1Mend\" orient=\"auto\" refX=\"0\" refY=\"0\" style=\"overflow:visible\">\n",
       "      <path d=\"M 0,0 5,-5 -12.5,0 5,5 0,0 z\" id=\"path3809-3\" inkscape:connector-curvature=\"0\" style=\"fill-rule:evenodd;stroke:#000000;stroke-width:1pt\" transform=\"matrix(-0.4,0,0,-0.4,-4,0)\"/>\n",
       "    </marker>\n",
       "    <marker id=\"Arrow1Mend-92\" inkscape:stockid=\"Arrow1Mend\" orient=\"auto\" refX=\"0\" refY=\"0\" style=\"overflow:visible\">\n",
       "      <path d=\"M 0,0 5,-5 -12.5,0 5,5 0,0 z\" id=\"path3809-2\" inkscape:connector-curvature=\"0\" style=\"fill-rule:evenodd;stroke:#000000;stroke-width:1pt\" transform=\"matrix(-0.4,0,0,-0.4,-4,0)\"/>\n",
       "    </marker>\n",
       "    <marker id=\"DotM-6\" inkscape:stockid=\"DotM\" orient=\"auto\" refX=\"0\" refY=\"0\" style=\"overflow:visible\">\n",
       "      <path d=\"m -2.5,-1 c 0,2.76 -2.24,5 -5,5 -2.76,0 -5,-2.24 -5,-5 0,-2.76 2.24,-5 5,-5 2.76,0 5,2.24 5,5 z\" id=\"path3864-1\" inkscape:connector-curvature=\"0\" style=\"fill-rule:evenodd;stroke:#000000;stroke-width:1pt\" transform=\"matrix(0.4,0,0,0.4,2.96,0.4)\"/>\n",
       "    </marker>\n",
       "    <marker id=\"Arrow1Mend-92-2\" inkscape:stockid=\"Arrow1Mend\" orient=\"auto\" refX=\"0\" refY=\"0\" style=\"overflow:visible\">\n",
       "      <path d=\"M 0,0 5,-5 -12.5,0 5,5 0,0 z\" id=\"path3809-2-9\" inkscape:connector-curvature=\"0\" style=\"fill-rule:evenodd;stroke:#000000;stroke-width:1pt\" transform=\"matrix(-0.4,0,0,-0.4,-4,0)\"/>\n",
       "    </marker>\n",
       "    <marker id=\"Arrow1Mend-1\" inkscape:stockid=\"Arrow1Mend\" orient=\"auto\" refX=\"0\" refY=\"0\" style=\"overflow:visible\">\n",
       "      <path d=\"M 0,0 5,-5 -12.5,0 5,5 0,0 z\" id=\"path3809-9\" inkscape:connector-curvature=\"0\" style=\"fill-rule:evenodd;stroke:#000000;stroke-width:1pt\" transform=\"matrix(-0.4,0,0,-0.4,-4,0)\"/>\n",
       "    </marker>\n",
       "    <marker id=\"DotM-5\" inkscape:stockid=\"DotM\" orient=\"auto\" refX=\"0\" refY=\"0\" style=\"overflow:visible\">\n",
       "      <path d=\"m -2.5,-1 c 0,2.76 -2.24,5 -5,5 -2.76,0 -5,-2.24 -5,-5 0,-2.76 2.24,-5 5,-5 2.76,0 5,2.24 5,5 z\" id=\"path3864-3\" inkscape:connector-curvature=\"0\" style=\"fill-rule:evenodd;stroke:#000000;stroke-width:1pt\" transform=\"matrix(0.4,0,0,0.4,2.96,0.4)\"/>\n",
       "    </marker>\n",
       "    <marker id=\"Arrow1Mend-92-5\" inkscape:stockid=\"Arrow1Mend\" orient=\"auto\" refX=\"0\" refY=\"0\" style=\"overflow:visible\">\n",
       "      <path d=\"M 0,0 5,-5 -12.5,0 5,5 0,0 z\" id=\"path3809-2-6\" inkscape:connector-curvature=\"0\" style=\"fill-rule:evenodd;stroke:#000000;stroke-width:1pt\" transform=\"matrix(-0.4,0,0,-0.4,-4,0)\"/>\n",
       "    </marker>\n",
       "    <marker id=\"Arrow1Mend-91\" inkscape:stockid=\"Arrow1Mend\" orient=\"auto\" refX=\"0\" refY=\"0\" style=\"overflow:visible\">\n",
       "      <path d=\"M 0,0 5,-5 -12.5,0 5,5 0,0 z\" id=\"path3809-27\" inkscape:connector-curvature=\"0\" style=\"fill-rule:evenodd;stroke:#000000;stroke-width:1pt\" transform=\"matrix(-0.4,0,0,-0.4,-4,0)\"/>\n",
       "    </marker>\n",
       "    <marker id=\"Arrow1Mstart-1\" inkscape:stockid=\"Arrow1Mstart\" orient=\"auto\" refX=\"0\" refY=\"0\" style=\"overflow:visible\">\n",
       "      <path d=\"M 0,0 5,-5 -12.5,0 5,5 0,0 z\" id=\"path3806-8\" inkscape:connector-curvature=\"0\" style=\"fill-rule:evenodd;stroke:#000000;stroke-width:1pt\" transform=\"matrix(0.4,0,0,0.4,4,0)\"/>\n",
       "    </marker>\n",
       "  </defs>\n",
       "  <sodipodi:namedview bordercolor=\"#666666\" borderopacity=\"1.0\" fit-margin-bottom=\"0\" fit-margin-left=\"0\" fit-margin-right=\"0\" fit-margin-top=\"0\" id=\"base\" inkscape:current-layer=\"layer1\" inkscape:cx=\"354.71869\" inkscape:cy=\"2.9959411\" inkscape:document-units=\"px\" inkscape:pageopacity=\"0.0\" inkscape:pageshadow=\"2\" inkscape:window-height=\"934\" inkscape:window-maximized=\"0\" inkscape:window-width=\"1405\" inkscape:window-x=\"472\" inkscape:window-y=\"155\" inkscape:zoom=\"0.85631068\" pagecolor=\"#ffffff\" showgrid=\"false\"/>\n",
       "  <metadata id=\"metadata7\">\n",
       "    <rdf:RDF>\n",
       "      <cc:Work rdf:about=\"\">\n",
       "        <dc:format>image/svg+xml</dc:format>\n",
       "        <dc:type rdf:resource=\"http://purl.org/dc/dcmitype/StillImage\"/>\n",
       "        <dc:title/>\n",
       "      </cc:Work>\n",
       "    </rdf:RDF>\n",
       "  </metadata>\n",
       "  <g id=\"layer1\" inkscape:groupmode=\"layer\" inkscape:label=\"Layer 1\" transform=\"translate(408.47426,-384.51815)\">\n",
       "    <path d=\"m 105.27617,420.11095 123.25478,0\" id=\"path3794-7\" inkscape:connector-curvature=\"0\" style=\"fill:none;stroke:#000000;stroke-width:2.59724402;stroke-linecap:butt;stroke-linejoin:miter;stroke-miterlimit:4;stroke-opacity:1;stroke-dasharray:none;marker-end:url(#Arrow1Mend)\"/>\n",
       "    <text id=\"text3778-5-5\" sodipodi:linespacing=\"125%\" style=\"font-size:29.32876396px;font-style:normal;font-variant:normal;font-weight:normal;font-stretch:normal;text-align:center;line-height:125%;letter-spacing:0px;word-spacing:0px;text-anchor:middle;fill:#000000;fill-opacity:1;stroke:none;font-family:Caladea;-inkscape-font-specification:Caladea\" x=\"208.7489\" xml:space=\"preserve\" y=\"401.35132\"><tspan id=\"tspan3780-3-6\" sodipodi:role=\"line\" style=\"font-style:italic;-inkscape-font-specification:Caladea Italic\" x=\"208.7489\" y=\"401.35132\">c</tspan></text>\n",
       "    <rect height=\"68.588348\" id=\"rect2989-2\" style=\"fill:none;stroke:#000000;stroke-width:2.59724402;stroke-linecap:round;stroke-linejoin:round;stroke-miterlimit:4;stroke-opacity:1;stroke-dasharray:none;stroke-dashoffset:0\" width=\"190.67561\" x=\"-85.652985\" y=\"385.81677\"/>\n",
       "    <text id=\"text2985-9\" sodipodi:linespacing=\"125%\" style=\"font-size:29.32876396px;font-style:normal;font-variant:normal;font-weight:normal;font-stretch:normal;text-align:center;line-height:125%;letter-spacing:0px;word-spacing:0px;text-anchor:middle;fill:#000000;fill-opacity:1;stroke:none;font-family:Caladea;-inkscape-font-specification:Caladea\" x=\"9.7922974\" xml:space=\"preserve\" y=\"429.92142\"><tspan id=\"tspan2987-1\" sodipodi:role=\"line\" x=\"9.7922974\" y=\"429.92142\">G</tspan></text>\n",
       "    <path d=\"m -174.14938,420.11095 81.548125,0\" id=\"path3794-7-0\" inkscape:connector-curvature=\"0\" style=\"fill:none;stroke:#000000;stroke-width:2.59724402;stroke-linecap:butt;stroke-linejoin:miter;stroke-miterlimit:4;stroke-opacity:1;stroke-dasharray:none;marker-end:url(#Arrow1Mend)\"/>\n",
       "    <text id=\"text2985-6-3\" sodipodi:linespacing=\"125%\" style=\"font-size:29.32876396px;font-style:normal;font-variant:normal;font-weight:normal;font-stretch:normal;text-align:center;line-height:125%;letter-spacing:0px;word-spacing:0px;text-anchor:middle;fill:#000000;fill-opacity:1;stroke:none;font-family:Caladea;-inkscape-font-specification:Caladea\" x=\"-26.812859\" xml:space=\"preserve\" y=\"561.27509\"><tspan id=\"tspan2987-18-7\" sodipodi:role=\"line\" x=\"-26.812859\" y=\"561.27509\">H</tspan></text>\n",
       "    <rect height=\"68.588348\" id=\"rect2989-5\" style=\"fill:none;stroke:#000000;stroke-width:2.59724402;stroke-linecap:round;stroke-linejoin:round;stroke-miterlimit:4;stroke-opacity:1;stroke-dasharray:none;stroke-dashoffset:0\" width=\"190.67561\" x=\"-121.65298\" y=\"516.86249\"/>\n",
       "    <path d=\"m 210.20408,404.9404 c 0,7.7395 -6.2741,14.0136 -14.0136,14.0136 -7.7395,0 -14.01361,-6.2741 -14.01361,-14.0136 0,-7.7395 6.27411,-14.01361 14.01361,-14.01361 7.7395,0 14.0136,6.27411 14.0136,14.01361 z\" id=\"path4653\" sodipodi:cx=\"196.19048\" sodipodi:cy=\"404.9404\" sodipodi:rx=\"14.013605\" sodipodi:ry=\"14.013605\" sodipodi:type=\"arc\" style=\"fill:none;stroke:#000000;stroke-width:2.59724402;stroke-linecap:round;stroke-linejoin:round;stroke-miterlimit:4;stroke-opacity:1;stroke-dasharray:none;stroke-dashoffset:0\" transform=\"translate(-384.7178,15.170551)\"/>\n",
       "    <path d=\"m 142.757,419.38736 0,133.55428 -72.589839,0\" id=\"path4655\" inkscape:connector-curvature=\"0\" style=\"fill:none;stroke:#000000;stroke-width:2.59724402;stroke-linecap:butt;stroke-linejoin:miter;stroke-miterlimit:4;stroke-opacity:1;stroke-dasharray:none;marker-start:url(#DotM);marker-end:url(#Arrow1Mend-92)\"/>\n",
       "    <path d=\"m -189.26554,435.95907 0,116.59757 68.05625,0\" id=\"path4655-3\" inkscape:connector-curvature=\"0\" style=\"fill:none;stroke:#000000;stroke-width:2.59724402;stroke-linecap:butt;stroke-linejoin:miter;stroke-miterlimit:4;stroke-opacity:1;stroke-dasharray:none;marker-start:url(#Arrow1Mstart);marker-end:none\"/>\n",
       "    <path d=\"m -288.66537,420.11095 81.54812,0\" id=\"path3794-7-6-4\" inkscape:connector-curvature=\"0\" style=\"fill:none;stroke:#000000;stroke-width:2.59724402;stroke-linecap:butt;stroke-linejoin:miter;stroke-miterlimit:4;stroke-opacity:1;stroke-dasharray:none;marker-end:url(#Arrow1Mend)\"/>\n",
       "    <text id=\"text3778-5-0-5\" sodipodi:linespacing=\"125%\" style=\"font-size:29.32876396px;font-style:normal;font-variant:normal;font-weight:normal;font-stretch:normal;text-align:center;line-height:125%;letter-spacing:0px;word-spacing:0px;text-anchor:middle;fill:#000000;fill-opacity:1;stroke:none;font-family:Caladea;-inkscape-font-specification:Caladea\" x=\"-253.21207\" xml:space=\"preserve\" y=\"401.35132\"><tspan id=\"tspan3780-3-62-0\" sodipodi:role=\"line\" style=\"font-style:italic;-inkscape-font-specification:Caladea Italic\" x=\"-253.21207\" y=\"401.35132\">e</tspan></text>\n",
       "    <text id=\"text3778-5-0-3\" sodipodi:linespacing=\"125%\" style=\"font-size:29.32876396px;font-style:normal;font-variant:normal;font-weight:normal;font-stretch:normal;text-align:center;line-height:125%;letter-spacing:0px;word-spacing:0px;text-anchor:middle;fill:#000000;fill-opacity:1;stroke:none;font-family:Caladea;-inkscape-font-specification:Caladea\" x=\"-219.43721\" xml:space=\"preserve\" y=\"406.88162\"><tspan id=\"tspan3780-3-62-6\" sodipodi:role=\"line\" style=\"font-style:normal;-inkscape-font-specification:Caladea\" x=\"-219.43721\" y=\"406.88162\">+</tspan></text>\n",
       "    <text id=\"text3778-5-0-3-1\" sodipodi:linespacing=\"125%\" style=\"font-size:29.32876396px;font-style:normal;font-variant:normal;font-weight:normal;font-stretch:normal;text-align:center;line-height:125%;letter-spacing:0px;word-spacing:0px;text-anchor:middle;fill:#000000;fill-opacity:1;stroke:none;font-family:Caladea;-inkscape-font-specification:Caladea\" x=\"-207.19872\" xml:space=\"preserve\" y=\"446.92432\"><tspan id=\"tspan3780-3-62-6-0\" sodipodi:role=\"line\" style=\"font-style:normal;-inkscape-font-specification:Caladea\" x=\"-207.19872\" y=\"446.92432\">_</tspan></text>\n",
       "    <g id=\"g3965\" transform=\"translate(-48.936371,-40)\">\n",
       "      <text id=\"text2985-6-3-3\" sodipodi:linespacing=\"125%\" style=\"font-size:29.32876396px;font-style:normal;font-variant:normal;font-weight:normal;font-stretch:normal;text-align:center;line-height:125%;letter-spacing:0px;word-spacing:0px;text-anchor:middle;fill:#000000;fill-opacity:1;stroke:none;font-family:Caladea;-inkscape-font-specification:Caladea\" x=\"22.123514\" xml:space=\"preserve\" y=\"714.81573\"><tspan id=\"tspan2987-18-7-6\" sodipodi:role=\"line\" x=\"22.123514\" y=\"714.81573\">F</tspan></text>\n",
       "      <rect height=\"68.588348\" id=\"rect2989-5-7\" style=\"fill:none;stroke:#000000;stroke-width:2.59724402;stroke-linecap:round;stroke-linejoin:round;stroke-miterlimit:4;stroke-opacity:1;stroke-dasharray:none;stroke-dashoffset:0\" width=\"190.67561\" x=\"-72.716606\" y=\"670.40314\"/>\n",
       "    </g>\n",
       "    <flowRoot id=\"flowRoot3957\" style=\"font-size:20px;font-style:normal;font-variant:normal;font-weight:normal;font-stretch:normal;text-align:center;line-height:125%;letter-spacing:0px;word-spacing:0px;text-anchor:middle;fill:#000000;fill-opacity:1;stroke:none;font-family:Caladea;-inkscape-font-specification:Caladea\" transform=\"translate(-295.02052,384.51815)\" xml:space=\"preserve\"><flowRegion id=\"flowRegion3959\"><rect height=\"152.98186\" id=\"rect3961\" width=\"293.11792\" x=\"163.49207\" y=\"275.80273\"/></flowRegion><flowPara id=\"flowPara3963\"/></flowRoot>    <path d=\"m 177.55209,419.38736 0,244.70916 -102.417651,0\" id=\"path4655-2\" inkscape:connector-curvature=\"0\" style=\"fill:none;stroke:#000000;stroke-width:2.59724402;stroke-linecap:butt;stroke-linejoin:miter;stroke-miterlimit:4;stroke-opacity:1;stroke-dasharray:none;marker-start:url(#DotM);marker-end:url(#Arrow1Mend-92)\"/>\n",
       "    <text id=\"text3778-5-0-0\" sodipodi:linespacing=\"125%\" style=\"font-size:29.32876396px;font-style:normal;font-variant:normal;font-weight:normal;font-stretch:normal;text-align:center;line-height:125%;letter-spacing:0px;word-spacing:0px;text-anchor:middle;fill:#000000;fill-opacity:1;stroke:none;font-family:Caladea;-inkscape-font-specification:Caladea\" x=\"-403.69\" xml:space=\"preserve\" y=\"402.71362\"><tspan id=\"tspan3780-3-62-9\" sodipodi:role=\"line\" style=\"font-style:italic;-inkscape-font-specification:Caladea Italic\" x=\"-403.69\" y=\"402.71362\">r</tspan></text>\n",
       "    <path d=\"m 210.20408,404.9404 c 0,7.7395 -6.2741,14.0136 -14.0136,14.0136 -7.7395,0 -14.01361,-6.2741 -14.01361,-14.0136 0,-7.7395 6.27411,-14.01361 14.01361,-14.01361 7.7395,0 14.0136,6.27411 14.0136,14.01361 z\" id=\"path4653-3\" sodipodi:cx=\"196.19048\" sodipodi:cy=\"404.9404\" sodipodi:rx=\"14.013605\" sodipodi:ry=\"14.013605\" sodipodi:type=\"arc\" style=\"fill:none;stroke:#000000;stroke-width:2.59724402;stroke-linecap:round;stroke-linejoin:round;stroke-miterlimit:4;stroke-opacity:1;stroke-dasharray:none;stroke-dashoffset:0\" transform=\"translate(-498.17153,16.430178)\"/>\n",
       "    <path d=\"m -402.1191,421.37058 81.54812,0\" id=\"path3794-7-6-4-6\" inkscape:connector-curvature=\"0\" style=\"fill:none;stroke:#000000;stroke-width:2.59724402;stroke-linecap:butt;stroke-linejoin:miter;stroke-miterlimit:4;stroke-opacity:1;stroke-dasharray:none;marker-end:url(#Arrow1Mend)\"/>\n",
       "    <text id=\"text3778-5-0-3-0\" sodipodi:linespacing=\"125%\" style=\"font-size:29.32876396px;font-style:normal;font-variant:normal;font-weight:normal;font-stretch:normal;text-align:center;line-height:125%;letter-spacing:0px;word-spacing:0px;text-anchor:middle;fill:#000000;fill-opacity:1;stroke:none;font-family:Caladea;-inkscape-font-specification:Caladea\" x=\"-332.89093\" xml:space=\"preserve\" y=\"408.14127\"><tspan id=\"tspan3780-3-62-6-6\" sodipodi:role=\"line\" style=\"font-style:normal;-inkscape-font-specification:Caladea\" x=\"-332.89093\" y=\"408.14127\">+</tspan></text>\n",
       "    <text id=\"text3778-5-0-3-1-2\" sodipodi:linespacing=\"125%\" style=\"font-size:29.32876396px;font-style:normal;font-variant:normal;font-weight:normal;font-stretch:normal;text-align:center;line-height:125%;letter-spacing:0px;word-spacing:0px;text-anchor:middle;fill:#000000;fill-opacity:1;stroke:none;font-family:Caladea;-inkscape-font-specification:Caladea\" x=\"-320.65244\" xml:space=\"preserve\" y=\"448.18396\"><tspan id=\"tspan3780-3-62-6-0-6\" sodipodi:role=\"line\" style=\"font-style:normal;-inkscape-font-specification:Caladea\" x=\"-320.65244\" y=\"448.18396\">_</tspan></text>\n",
       "    <path d=\"m -302.9125,439.40032 0,224.79902 180.00999,0\" id=\"path4655-3-7\" inkscape:connector-curvature=\"0\" style=\"fill:none;stroke:#000000;stroke-width:2.59724402;stroke-linecap:butt;stroke-linejoin:miter;stroke-miterlimit:4;stroke-opacity:1;stroke-dasharray:none;marker-start:url(#Arrow1Mstart);marker-end:none\"/>\n",
       "  </g>\n",
       "</svg>"
      ],
      "text/plain": [
       "<IPython.core.display.SVG object>"
      ]
     },
     "execution_count": 6,
     "metadata": {},
     "output_type": "execute_result"
    }
   ],
   "source": [
    "from IPython.display import SVG\n",
    "SVG('img/intro_fig6.svg')"
   ]
  },
  {
   "cell_type": "markdown",
   "metadata": {
    "deletable": true,
    "editable": true
   },
   "source": [
    "$$\\frac{c}{r} = \\frac{\\frac{G}{1+GH}}{1+\\frac{GF}{1+GH}} = \\frac{\\frac{G}{1+GH}}{\\frac{1+GH+GF}{1+GH}}$$"
   ]
  },
  {
   "cell_type": "markdown",
   "metadata": {
    "deletable": true,
    "editable": true
   },
   "source": [
    "$$\\frac{c}{r} = \\frac{G}{1+GH+GF}$$"
   ]
  },
  {
   "cell_type": "markdown",
   "metadata": {
    "deletable": true,
    "editable": true
   },
   "source": [
    "In general feedback has effects on performance, bandwidth, impedance, time response and frequency response."
   ]
  },
  {
   "cell_type": "markdown",
   "metadata": {
    "deletable": true,
    "editable": true
   },
   "source": [
    "### Types of control systems"
   ]
  },
  {
   "cell_type": "markdown",
   "metadata": {
    "deletable": true,
    "editable": true
   },
   "source": [
    "- According to the method of analysis and design\n",
    " - Linear: A system based on the use of a linear operator.\n",
    " - Nonlinear\n",
    " - Time-invariant (TIV): System whose output does not depend explicitly upon time.\n",
    " - Time-variant (TV): Its outputs depend explicitly upon time.\n",
    " - If a time-invariant system is also linear, it is a LTI system (linear time-invariant).\n",
    "- According to the types of signals:\n",
    " - Continuous systems\n",
    " - Discrete systems\n",
    "- According to the components of the system\n",
    " - Electromechanical\n",
    " - Hydraulic\n",
    " - Biological\n",
    " - ...\n",
    "- According to its main purpose\n",
    " - Position system\n",
    " - Speed system\n",
    " - ..."
   ]
  }
 ],
 "metadata": {
  "kernelspec": {
   "display_name": "Python 2",
   "language": "python",
   "name": "python2"
  },
  "language_info": {
   "codemirror_mode": {
    "name": "ipython",
    "version": 2
   },
   "file_extension": ".py",
   "mimetype": "text/x-python",
   "name": "python",
   "nbconvert_exporter": "python",
   "pygments_lexer": "ipython2",
   "version": "2.7.6"
  }
 },
 "nbformat": 4,
 "nbformat_minor": 0
}
