{
 "cells": [
  {
   "cell_type": "markdown",
   "metadata": {
    "deletable": true,
    "editable": true
   },
   "source": [
    "# Analysis of Dynamic Systems"
   ]
  },
  {
   "cell_type": "markdown",
   "metadata": {
    "deletable": true,
    "editable": true
   },
   "source": [
    "## Schedule:"
   ]
  },
  {
   "cell_type": "markdown",
   "metadata": {
    "deletable": true,
    "editable": true
   },
   "source": [
    "- Getting started\n",
    "- Introduction\n",
    "- Mathematical bases\n",
    "- Bode diagrams\n",
    "- Modeling with linear elements\n",
    "- State variables\n",
    "- Block diagrams\n",
    "- Time response\n",
    "- Frequency response\n",
    "- Stability\n",
    "- Root Locus\n",
    "- Final project\n",
    "- Course evaluation"
   ]
  },
  {
   "cell_type": "markdown",
   "metadata": {
    "deletable": true,
    "editable": true
   },
   "source": [
    "## Mathematical bases"
   ]
  },
  {
   "cell_type": "markdown",
   "metadata": {
    "deletable": true,
    "editable": true
   },
   "source": [
    "- Complex Variable Theory.\n",
    "- Differential equations.\n",
    "- Laplace transform.\n",
    "- Theory of matrices.\n",
    "- Bode diagrams."
   ]
  },
  {
   "cell_type": "code",
   "execution_count": null,
   "metadata": {
    "collapsed": true
   },
   "outputs": [],
   "source": [
    "import sympy\n",
    "from sympy import *\n",
    "sympy.init_printing()\n",
    "s = Symbol('s')\n",
    "t = Symbol('t', positive=True)"
   ]
  },
  {
   "cell_type": "markdown",
   "metadata": {
    "deletable": true,
    "editable": true
   },
   "source": [
    "### Laplace transform"
   ]
  },
  {
   "cell_type": "markdown",
   "metadata": {},
   "source": [
    "Tool for the solution of linear differential equations."
   ]
  },
  {
   "cell_type": "markdown",
   "metadata": {},
   "source": [
    "**Definition:** For a function $f(t)$ such that:"
   ]
  },
  {
   "cell_type": "markdown",
   "metadata": {},
   "source": [
    "$$\\int_{0}^{\\infty }\\left | f(t) \\, e^{\\sigma t} \\right | dt< \\infty$$"
   ]
  },
  {
   "cell_type": "markdown",
   "metadata": {},
   "source": [
    "For a finite real value of $\\sigma$, the Laplace transform of $f(t)$ is defined as:"
   ]
  },
  {
   "cell_type": "markdown",
   "metadata": {},
   "source": [
    "$$F\\left ( s \\right ) = \\int_{0}^{\\infty } f\\left ( t \\right ) \\, e^{-st} dt$$"
   ]
  },
  {
   "cell_type": "markdown",
   "metadata": {},
   "source": [
    "This is the unilateral Laplace transform. Or:"
   ]
  },
  {
   "cell_type": "markdown",
   "metadata": {},
   "source": [
    "$$F\\left ( s \\right ) = \\mathfrak{L} \\left [ f\\left ( t \\right ) \\right ]$$"
   ]
  },
  {
   "cell_type": "markdown",
   "metadata": {},
   "source": [
    "- The variable $s$ is known as the Laplace operator, and is a complex variable.\n",
    "- All the information contained in $f(t)$ prior to $t = 0$ is ignored or considered equal to zero, this does not normally affect calculations since the time reference that is normally used is $t = 0$.\n",
    "- We will not use the definition of the Laplace transform, but the tables of the books."
   ]
  },
  {
   "cell_type": "code",
   "execution_count": null,
   "metadata": {
    "collapsed": false
   },
   "outputs": [],
   "source": [
    "from IPython.display import Image\n",
    "Image(filename='img/laplace_fig1.png')"
   ]
  },
  {
   "cell_type": "markdown",
   "metadata": {},
   "source": [
    "**Example:** Consider a unitary step function $f(t)$:"
   ]
  },
  {
   "cell_type": "code",
   "execution_count": null,
   "metadata": {
    "collapsed": false
   },
   "outputs": [],
   "source": [
    "import numpy as np\n",
    "import matplotlib.pyplot as plt\n",
    "\n",
    "x = [-1, 0, 0, 1, 2, 3]\n",
    "y = [0, 0, 1, 1, 1, 1]\n",
    "\n",
    "plt.plot(x, y, 'r', label='f(t) = u(t)', linewidth=3)\n",
    "plt.title('Unitary step function')\n",
    "plt.xlabel('t')\n",
    "plt.ylabel('f(t)')\n",
    "plt.legend()\n",
    "plt.xlim(-1, 3)\n",
    "plt.ylim(-1, 2)\n",
    "plt.grid()\n",
    "plt.show()"
   ]
  },
  {
   "cell_type": "markdown",
   "metadata": {},
   "source": [
    "$$F\\left ( s \\right ) = \\mathfrak{L}\\left [ u\\left ( t \\right ) \\right ] = \\int_{0}^{\\infty } u\\left ( t \\right ) e^{-st} dt$$"
   ]
  },
  {
   "cell_type": "markdown",
   "metadata": {},
   "source": [
    "$$\\Rightarrow \\, F\\left ( s \\right ) = \\left [  - \\frac{1}{s} e^{-st}    \\right ] _{0}^{\\infty } = \\frac{1}{s}$$"
   ]
  },
  {
   "cell_type": "markdown",
   "metadata": {},
   "source": [
    "### Inverse of Laplace Transforms"
   ]
  },
  {
   "cell_type": "markdown",
   "metadata": {},
   "source": [
    "It seeks to obtain $f(t)$ from $F(s)$."
   ]
  },
  {
   "cell_type": "markdown",
   "metadata": {},
   "source": [
    "$$f\\left ( t \\right ) = \\boldsymbol{\\mathfrak{L}}^{-1} \\left [ F\\left ( s \\right ) \\right ]$$"
   ]
  },
  {
   "cell_type": "markdown",
   "metadata": {},
   "source": [
    "$$f\\left ( t \\right ) = \\frac{1}{2\\pi j} \\int_{c-j\\infty }^{c+j\\infty } F\\left ( s \\right ) e^{st} ds$$"
   ]
  },
  {
   "cell_type": "markdown",
   "metadata": {},
   "source": [
    "### Theorems"
   ]
  },
  {
   "cell_type": "markdown",
   "metadata": {},
   "source": [
    "**1.** Multiplication by a constant"
   ]
  },
  {
   "cell_type": "markdown",
   "metadata": {},
   "source": [
    "$$\\boldsymbol{\\mathfrak{L}} \\left [ k \\, f \\left (t \\right ) \\right ] = k \\, F \\left (s \\right )$$"
   ]
  },
  {
   "cell_type": "markdown",
   "metadata": {},
   "source": [
    "**2.** add and subtract"
   ]
  },
  {
   "cell_type": "markdown",
   "metadata": {},
   "source": [
    "$$\\mathfrak{L} \\left [ f_1 \\left ( t \\right ) \\pm f_2 \\left ( t \\right ) \\right ] = F_1 \\left ( s \\right ) \\pm  F_2 \\left ( s \\right )$$"
   ]
  },
  {
   "cell_type": "markdown",
   "metadata": {},
   "source": [
    "**3.** Differentiation"
   ]
  },
  {
   "cell_type": "markdown",
   "metadata": {},
   "source": [
    "$$\\mathfrak{L} \\left [ \\frac{d\\, f\\left ( t \\right )}{dt} \\right ] = s \\, F\\left ( s \\right ) - \\lim_{t \\to 0} f\\left ( t \\right ) = s \\, F\\left ( s \\right ) - f\\left ( 0 \\right )$$"
   ]
  },
  {
   "cell_type": "markdown",
   "metadata": {},
   "source": [
    "$$\\mathfrak{L} \\left [ \\frac{d^n \\, f\\left ( t \\right )}{dt^n} \\right ] = s^n \\, F\\left ( s \\right ) - \\lim_{t \\to 0} \\left [ s^{n-1} f\\left ( t \\right ) + s^{n-2} \\frac{df\\left ( t \\right )}{dt} + \\cdots +s^{0} \\frac{d^{n-1} f\\left ( t \\right )}{dt^{n-1}} \\right ]$$"
   ]
  },
  {
   "cell_type": "markdown",
   "metadata": {},
   "source": [
    "$$\\mathfrak{L} \\left [ \\frac{d^n \\, f\\left ( t \\right )}{dt^n} \\right ] = s^n \\, F\\left ( s \\right ) - s^{n-1} f\\left ( 0 \\right ) - s^{n-2} f^{\\left ( 1 \\right )} - \\cdots - f^{\\left ( n-1 \\right )} \\left ( 0 \\right )$$"
   ]
  },
  {
   "cell_type": "markdown",
   "metadata": {},
   "source": [
    "**4.** Integration"
   ]
  },
  {
   "cell_type": "markdown",
   "metadata": {},
   "source": [
    "$$\\mathfrak{L} \\left [ \\int_{0}^{t} f\\left ( \\tau  \\right ) d\\tau \\right ] = \\frac{F\\left ( s \\right )}{s}$$"
   ]
  },
  {
   "cell_type": "markdown",
   "metadata": {},
   "source": [
    "$$\\mathfrak{L} \\left [ \\int_{0}^{t_1} \\int_{0}^{t_2} \\cdots \\int_{0}^{t_n} f\\left ( \\tau  \\right ) d\\tau \\, dt_1 \\cdots dt_{n-1}\\right ] = \\frac{F\\left ( s \\right )}{s^n}$$"
   ]
  },
  {
   "cell_type": "markdown",
   "metadata": {},
   "source": [
    "**5.** Time shift"
   ]
  },
  {
   "cell_type": "markdown",
   "metadata": {},
   "source": [
    "$$\\mathfrak{L} \\left [ f\\left ( t-T \\right ) u\\left ( t-T \\right )\\right ] = e^{-Ts} F\\left ( s \\right )$$"
   ]
  },
  {
   "cell_type": "markdown",
   "metadata": {},
   "source": [
    "Where $u\\left ( t-T \\right )$ is the unitary step offset to the right."
   ]
  },
  {
   "cell_type": "markdown",
   "metadata": {},
   "source": [
    "**6.** Initial value theorem"
   ]
  },
  {
   "cell_type": "markdown",
   "metadata": {},
   "source": [
    "$$\\lim _{t \\to 0} f\\left ( t \\right ) = \\lim _{s \\to \\infty } sF\\left ( s \\right )$$"
   ]
  },
  {
   "cell_type": "markdown",
   "metadata": {},
   "source": [
    "**7.** Final value theorem"
   ]
  },
  {
   "cell_type": "markdown",
   "metadata": {},
   "source": [
    "$$\\lim _{t \\to \\infty} f\\left ( t \\right ) = \\lim _{s \\to 0 } sF\\left ( s \\right )$$"
   ]
  },
  {
   "cell_type": "markdown",
   "metadata": {},
   "source": [
    "If and only if $F(s)$ is analytic in the imaginary axis and in the right half-plane of $s$."
   ]
  },
  {
   "cell_type": "markdown",
   "metadata": {},
   "source": [
    "**Example:** Consider the function $F_1(s)$:"
   ]
  },
  {
   "cell_type": "markdown",
   "metadata": {},
   "source": [
    "$$F_1\\left ( s \\right ) = \\frac{5}{s\\left ( s^2 + s + 2 \\right )}$$"
   ]
  },
  {
   "cell_type": "markdown",
   "metadata": {},
   "source": [
    "The poles of $F_1(s)$ are:"
   ]
  },
  {
   "cell_type": "code",
   "execution_count": null,
   "metadata": {
    "collapsed": false
   },
   "outputs": [],
   "source": [
    "F1 = 5/(s*(s**2+s+2))\n",
    "F1.expand()"
   ]
  },
  {
   "cell_type": "code",
   "execution_count": null,
   "metadata": {
    "collapsed": false
   },
   "outputs": [],
   "source": [
    "from control import *\n",
    "from scipy import signal\n",
    "\n",
    "sysF1 = signal.lti([5], [1, 1, 2, 0]) # F1(s) = (5) / (s *** 3 + s ** 2 + 2 * s + 0)\n",
    "w, H = signal.freqresp(sysF1)\n",
    "print(sysF1.zeros, sysF1.poles, sysF1.gain)"
   ]
  },
  {
   "cell_type": "code",
   "execution_count": null,
   "metadata": {
    "collapsed": false
   },
   "outputs": [],
   "source": [
    "plt.plot(sysF1.zeros.real, sysF1.zeros.imag, 'o')\n",
    "plt.plot(sysF1.poles.real, sysF1.poles.imag, 'x')\n",
    "plt.title('Poles and Zeros')\n",
    "plt.xlabel('Re')\n",
    "plt.ylabel('Im')\n",
    "plt.xlim(-3, 3)\n",
    "plt.ylim(-3, 3)\n",
    "plt.grid()\n",
    "plt.show()"
   ]
  },
  {
   "cell_type": "markdown",
   "metadata": {},
   "source": [
    "$$0, \\, -\\frac{1}{2} \\pm j\\frac{\\sqrt{7}}{2}$$"
   ]
  },
  {
   "cell_type": "markdown",
   "metadata": {},
   "source": [
    "Since the function is analytic on the imaginary axis and on the right half-plane of $s$, then it fulfills the final value theorem. Thus:"
   ]
  },
  {
   "cell_type": "markdown",
   "metadata": {},
   "source": [
    "$$\\lim _{t \\to \\infty } f\\left ( t \\right ) = \\lim _{s \\to 0 } s F\\left ( s \\right ) = \\lim _{s \\to 0 } \\frac{5}{s^2+s+2} = \\frac{5}{2}$$"
   ]
  },
  {
   "cell_type": "markdown",
   "metadata": {},
   "source": [
    "$$ \\Rightarrow \\lim _{t \\to \\infty } f\\left ( t \\right ) = \\frac{5}{2} $$"
   ]
  },
  {
   "cell_type": "markdown",
   "metadata": {},
   "source": [
    "**Example:** Consider the function $F_2(s)$:"
   ]
  },
  {
   "cell_type": "markdown",
   "metadata": {},
   "source": [
    "$$ F_2 \\left ( s \\right ) = \\frac{\\omega }{s^2 + \\omega ^2} $$"
   ]
  },
  {
   "cell_type": "markdown",
   "metadata": {},
   "source": [
    "And we know that $f_2 \\left ( t \\right ) = sin \\left ( \\omega t \\right )$. The poles are: $\\pm j \\omega $"
   ]
  },
  {
   "cell_type": "markdown",
   "metadata": {},
   "source": [
    "$ \\Rightarrow $ **Does not** meet the final value theorem"
   ]
  },
  {
   "cell_type": "markdown",
   "metadata": {},
   "source": [
    "$ \\Rightarrow $ We **can not** determine the final value of $f(t)$."
   ]
  },
  {
   "cell_type": "markdown",
   "metadata": {},
   "source": [
    "**8.** Complex displacement"
   ]
  },
  {
   "cell_type": "markdown",
   "metadata": {},
   "source": [
    "$$\\mathfrak{L} \\left [ e^{\\mp at} f\\left ( t \\right ) \\right ] = F \\left ( s \\pm a \\right )$$"
   ]
  },
  {
   "cell_type": "markdown",
   "metadata": {},
   "source": [
    "**9.** Real convolution (complex multiplication)"
   ]
  },
  {
   "cell_type": "markdown",
   "metadata": {},
   "source": [
    "$$F_1 \\left ( s \\right ) F_2 \\left ( s \\right ) = \\mathfrak{L} \\left [ \\int_{0}^{t} f_1 \\left ( \\tau  \\right ) f_2 \\left ( t - \\tau  \\right ) d\\tau \\right ]$$"
   ]
  },
  {
   "cell_type": "markdown",
   "metadata": {},
   "source": [
    "$$F_1 \\left ( s \\right ) F_2 \\left ( s \\right ) = \\mathfrak{L} \\left [ \\int_{0}^{t} f_2 \\left ( \\tau  \\right ) f_1 \\left ( t - \\tau  \\right ) d\\tau \\right ]$$"
   ]
  },
  {
   "cell_type": "markdown",
   "metadata": {},
   "source": [
    "$$ F_1 \\left ( s \\right ) F_2 \\left ( s \\right ) = \\mathfrak{L} \\left [ f_1 \\left ( t \\right ) * f_2 \\left ( t \\right ) \\right ] $$"
   ]
  },
  {
   "cell_type": "markdown",
   "metadata": {},
   "source": [
    "**Note:** $\\mathfrak{L}^{-1} \\left [ F_1 \\left ( s \\right ) F_2 \\left ( s \\right ) \\right ] \\neq   f_1 \\left ( t \\right ) \\,  f_2 \\left ( t \\right ) $"
   ]
  },
  {
   "cell_type": "markdown",
   "metadata": {},
   "source": [
    "**10.** Complex convolution (real multiplication)"
   ]
  },
  {
   "cell_type": "markdown",
   "metadata": {},
   "source": [
    "$$\\mathfrak{L} \\left [ f_1 \\left ( t \\right ) f_2 \\left ( t \\right ) \\right ] = F_1 \\left ( s \\right ) * F_2 \\left ( s \\right )$$"
   ]
  },
  {
   "cell_type": "markdown",
   "metadata": {},
   "source": [
    "### Partial fractions"
   ]
  },
  {
   "cell_type": "markdown",
   "metadata": {},
   "source": [
    "**1.** Simple poles"
   ]
  },
  {
   "cell_type": "markdown",
   "metadata": {},
   "source": [
    "$$ X \\left ( s \\right ) = \\frac{P \\left ( s \\right )}{Q \\left ( s \\right )} = \\frac{P \\left ( s \\right )}{\\left ( s+s_1 \\right )\\left ( s+s_2 \\right )\\cdots \\left ( s+s_n \\right )} $$"
   ]
  },
  {
   "cell_type": "markdown",
   "metadata": {},
   "source": [
    "$$ \\Rightarrow X \\left ( s \\right ) = \\frac{A}{s+s_1} + \\frac{B}{s+s_2} + \\cdots + \\frac{Z}{s+s_n} $$"
   ]
  },
  {
   "cell_type": "markdown",
   "metadata": {},
   "source": [
    "Where the coefficients $A, B, ... Z$ are determined by multiplying both sides by $(s+s_i)$, and replacing $s = -s_i$."
   ]
  },
  {
   "cell_type": "markdown",
   "metadata": {},
   "source": [
    "**Example:** Consider the function $X(s)$:"
   ]
  },
  {
   "cell_type": "markdown",
   "metadata": {},
   "source": [
    "$$X \\left ( s \\right ) = \\frac{5s+3}{\\left ( s+1 \\right )\\left ( s+2 \\right )\\left ( s+3 \\right )}$$"
   ]
  },
  {
   "cell_type": "markdown",
   "metadata": {},
   "source": [
    "$$ \\Rightarrow X \\left ( s \\right ) = \\frac{A}{s+1} + \\frac{B}{s+2} + \\frac{C}{s+3} $$"
   ]
  },
  {
   "cell_type": "markdown",
   "metadata": {},
   "source": [
    "Both sides by $(s+1)$:"
   ]
  },
  {
   "cell_type": "markdown",
   "metadata": {},
   "source": [
    "$$\\left |  A+\\frac{s+1}{s+2} B+\\frac{s+1}{s+3} C =\\frac{5s+3}{\\left ( s+2 \\right )\\left ( s+3 \\right )}    \\right | _{s=-1}$$"
   ]
  },
  {
   "cell_type": "markdown",
   "metadata": {},
   "source": [
    "$$\\Rightarrow A = \\frac{-5+3}{\\left ( 1 \\right )\\left ( 2 \\right )} = \\frac{-2}{2} = -1$$"
   ]
  },
  {
   "cell_type": "markdown",
   "metadata": {},
   "source": [
    "Both sides by $(s+2)$:"
   ]
  },
  {
   "cell_type": "markdown",
   "metadata": {},
   "source": [
    "$$\\left |  \\frac{s+2}{s+1} A + B +\\frac{s+2}{s+3} C =\\frac{5s+3}{\\left ( s+1 \\right )\\left ( s+3 \\right )}    \\right | _{s=-2}$$"
   ]
  },
  {
   "cell_type": "markdown",
   "metadata": {},
   "source": [
    "$$\\Rightarrow B = \\frac{-10+3}{\\left ( -1 \\right )\\left ( 1 \\right )} = \\frac{-7}{-1} = 7$$"
   ]
  },
  {
   "cell_type": "markdown",
   "metadata": {},
   "source": [
    "Both sides by $(s+3)$:"
   ]
  },
  {
   "cell_type": "markdown",
   "metadata": {},
   "source": [
    "$$\\left |  \\frac{s+3}{s+1} A + \\frac{s+3}{s+2} B + C =\\frac{5s+3}{\\left ( s+1 \\right )\\left ( s+2 \\right )}    \\right | _{s=-3}$$"
   ]
  },
  {
   "cell_type": "markdown",
   "metadata": {},
   "source": [
    "$$\\Rightarrow C = \\frac{-15+3}{\\left ( -2 \\right )\\left ( -1 \\right )} = \\frac{-12}{2} = -6$$"
   ]
  },
  {
   "cell_type": "markdown",
   "metadata": {},
   "source": [
    "$$\\Rightarrow X \\left ( s \\right ) = \\frac{-1}{s+1} + \\frac{7}{s+2} + \\frac{-6}{s+3}$$"
   ]
  },
  {
   "cell_type": "markdown",
   "metadata": {},
   "source": [
    "**2.** Poles of multiple order."
   ]
  },
  {
   "cell_type": "markdown",
   "metadata": {
    "collapsed": true
   },
   "source": [
    "The procedure is the same, but we have as many terms as polo multiplicity."
   ]
  },
  {
   "cell_type": "markdown",
   "metadata": {},
   "source": [
    "**Example:** Consider the function $X(s)$:"
   ]
  },
  {
   "cell_type": "markdown",
   "metadata": {
    "collapsed": true
   },
   "source": [
    "$$X\\left ( s \\right ) = \\frac{1}{s\\left ( s+1 \\right )^3 \\left ( s+2 \\right )}$$"
   ]
  },
  {
   "cell_type": "markdown",
   "metadata": {
    "collapsed": true
   },
   "source": [
    "$$\\Rightarrow X\\left ( s \\right ) = \\frac{A}{s} + \\frac{B_1}{\\left ( s+1 \\right )^3} + \\frac{B_2}{\\left ( s+1 \\right )^2} + \\frac{B_3}{\\left ( s+1 \\right )} + \\frac{C}{s+2}$$"
   ]
  },
  {
   "cell_type": "markdown",
   "metadata": {
    "collapsed": true
   },
   "source": [
    "$$\\Rightarrow A = \\left [  \\frac{1}{\\left ( s+1 \\right )^3 \\left ( s+2 \\right )}    \\right ]_{s=0} = \\frac{1}{\\left ( 1 \\right )\\left ( 2 \\right )} = \\frac{1}{2}$$"
   ]
  },
  {
   "cell_type": "markdown",
   "metadata": {
    "collapsed": true
   },
   "source": [
    "$$\\Rightarrow B_1 = \\left | \\frac{1}{s\\left ( s+2 \\right )} \\right |_{s=-1} = \\frac{1}{\\left ( -1 \\right )\\left ( 1 \\right )} = -1$$"
   ]
  },
  {
   "cell_type": "markdown",
   "metadata": {},
   "source": [
    "$$ \\Rightarrow B_2 = \\left | \\frac{d}{ds} \\left [ \\frac{1}{s\\left ( s+2 \\right )} \\right ]  \\right |_{s=-1} =  \\left | \\frac{-\\frac{d\\left ( s^2 +2s \\right )}{ds}}{s^2 \\left ( s+2 \\right )^2} \\right |_{s=-1} =\\left | \\frac{-\\left ( 2s+2 \\right )}{s^2\\left ( s+2 \\right )^2} \\right |_{s=-1} = 0 $$"
   ]
  },
  {
   "cell_type": "markdown",
   "metadata": {},
   "source": [
    "$$ \\Rightarrow B_3 = \\left | \\frac{1}{2!} \\frac{d^2}{ds^2} \\left [ \\frac{1}{s\\left ( s+2 \\right )} \\right ] \\right |_{s=-1} = \\left | \\frac{1}{2!} \\frac{d}{ds} \\left [ \\frac{-2s-2}{s^2\\left ( s+2 \\right )^2} \\right ] \\right |_{s=-1} $$"
   ]
  },
  {
   "cell_type": "markdown",
   "metadata": {},
   "source": [
    "$$ = \\left | \\frac{1}{2}  \\frac{-2s^2\\left ( s+2 \\right )^2 + \\left ( 2s+2 \\right ) \\frac{d}{ds} \\left ( s^4 + 4s^3 + 4 s^2 \\right )}{s^4\\left ( s+2 \\right )^4} \\right |_{s=-1} $$"
   ]
  },
  {
   "cell_type": "markdown",
   "metadata": {},
   "source": [
    "$$ =\\frac{1}{2} \\frac{-\\left ( 1 \\right )\\left ( 1 \\right )\\left ( 2 \\right )+\\left ( 0 \\right )\\left ( 4s^3 +12 s^2 + 8s \\right )}{\\left ( 1 \\right )\\left ( 1 \\right )} = -1 $$"
   ]
  },
  {
   "cell_type": "markdown",
   "metadata": {},
   "source": [
    "General form:"
   ]
  },
  {
   "cell_type": "markdown",
   "metadata": {
    "collapsed": true
   },
   "source": [
    "$$ B_r = \\left | \\frac{1}{\\left ( r-1 \\right )!} \\frac{d^{r-1}}{ds^{r-1}} \\left [ \\left ( s+s_i \\right )^{r-1} X\\left ( s \\right ) \\right ] \\right |_{s=s_i} $$"
   ]
  },
  {
   "cell_type": "markdown",
   "metadata": {
    "collapsed": true
   },
   "source": [
    "$$\\Rightarrow C = \\left [  \\frac{1}{s \\left ( s+1 \\right )^3 }    \\right ]_{s=-2} = \\frac{1}{\\left ( -2 \\right )\\left ( -1 \\right )^3} = \\frac{1}{2}$$"
   ]
  },
  {
   "cell_type": "markdown",
   "metadata": {
    "collapsed": true
   },
   "source": [
    "Therefore, the complete expansion is:"
   ]
  },
  {
   "cell_type": "markdown",
   "metadata": {
    "collapsed": true
   },
   "source": [
    "$$ X\\left ( s \\right ) = \\frac{\\frac{1}{2}}{s} + \\frac{-1}{\\left ( s+1 \\right )^3} + \\frac{-1}{s+1} +\\frac{\\frac{1}{2}}{s+2} $$"
   ]
  },
  {
   "cell_type": "markdown",
   "metadata": {},
   "source": [
    "**3.** Simple complex poles"
   ]
  },
  {
   "cell_type": "markdown",
   "metadata": {},
   "source": [
    "They develop in the same way."
   ]
  },
  {
   "cell_type": "markdown",
   "metadata": {},
   "source": [
    "**Workshop:** Carry out the expansion by hand by partial fractions of:"
   ]
  },
  {
   "cell_type": "markdown",
   "metadata": {},
   "source": [
    "$$ X\\left ( s \\right ) = \\frac{\\omega _0 ^2}{s\\left ( s^2 + 2 \\zeta \\omega _0 s + \\omega _0 ^2 \\right )} $$"
   ]
  },
  {
   "cell_type": "markdown",
   "metadata": {},
   "source": [
    "**Example:** Consider the function:"
   ]
  },
  {
   "cell_type": "markdown",
   "metadata": {},
   "source": [
    "$$ \\frac{d^2 x\\left ( t \\right )}{dt^2} + 3 \\frac{dx\\left ( t \\right )}{dt} + 2 x\\left ( t \\right ) = 5\\, u\\left ( t \\right ) $$"
   ]
  },
  {
   "cell_type": "markdown",
   "metadata": {},
   "source": [
    "Define $x(t)$ if:"
   ]
  },
  {
   "cell_type": "markdown",
   "metadata": {},
   "source": [
    "$$ u\\left ( t \\right ) = \\left\\{\\begin{matrix}\n",
    "1 & t\\geq 0\\\\ \n",
    "0 & t < 0\n",
    "\\end{matrix}\\right.$$"
   ]
  },
  {
   "cell_type": "markdown",
   "metadata": {},
   "source": [
    "$$ x\\left ( 0 \\right ) = -1,\\: x^{(1)} \\left ( 0 \\right ) = 2 $$"
   ]
  },
  {
   "cell_type": "markdown",
   "metadata": {},
   "source": [
    "**Solution**"
   ]
  },
  {
   "cell_type": "markdown",
   "metadata": {},
   "source": [
    "Applying Laplace:"
   ]
  },
  {
   "cell_type": "markdown",
   "metadata": {},
   "source": [
    "$$ s^2 X\\left ( s \\right ) - s x\\left ( 0 \\right ) - x^{(1)} \\left ( 0 \\right ) +3 s X\\left ( s \\right ) - 3 x\\left ( 0 \\right ) + 2 X\\left ( s \\right ) = \\frac{5}{s} $$"
   ]
  },
  {
   "cell_type": "markdown",
   "metadata": {},
   "source": [
    "$$ \\Rightarrow X\\left ( s \\right ) = \\frac{-s^2 - s + 5}{s\\left ( s^2 + 3 s + 2 \\right )} = \\frac{-s^2 - s + 5}{s\\left ( s+1 \\right )\\left ( s+2 \\right )} $$"
   ]
  },
  {
   "cell_type": "markdown",
   "metadata": {},
   "source": [
    "To calculate the inverse of Laplace, we expand in partial fractions:"
   ]
  },
  {
   "cell_type": "markdown",
   "metadata": {},
   "source": [
    "$$ \\Rightarrow X\\left ( s \\right ) = \\frac{\\frac{5}{2}}{s} - \\frac{5}{s+1} + \\frac{\\frac{3}{2}}{s+2} $$"
   ]
  },
  {
   "cell_type": "markdown",
   "metadata": {},
   "source": [
    "And using the tables:"
   ]
  },
  {
   "cell_type": "markdown",
   "metadata": {},
   "source": [
    "$$ \\Rightarrow x\\left ( t \\right ) = \\frac{5}{2} - 5 e^{-t} + \\frac{3}{2} e^{-2t} \\: \\; / t\\geq 0 $$"
   ]
  },
  {
   "cell_type": "markdown",
   "metadata": {},
   "source": [
    "$\\frac{5}{2}$ is the stationary response, and the rest is the transient response."
   ]
  },
  {
   "cell_type": "markdown",
   "metadata": {},
   "source": [
    "If we are only looking for the stationary response, we can apply the final value theorem:"
   ]
  },
  {
   "cell_type": "markdown",
   "metadata": {},
   "source": [
    "$$ \\lim _{t \\to \\infty } x\\left ( t \\right ) = \\lim _{s \\to 0} s X\\left ( s \\right ) = \\lim _{s \\to 0} \\frac{-s^2 - s + 5}{s^2 + 3s + 2} = \\frac{5}{2} $$"
   ]
  },
  {
   "cell_type": "markdown",
   "metadata": {},
   "source": [
    "This is a way, the other option is calculating it directly with sympy:"
   ]
  },
  {
   "cell_type": "code",
   "execution_count": null,
   "metadata": {
    "collapsed": true
   },
   "outputs": [],
   "source": [
    "import sympy\n",
    "from sympy import *\n",
    "\n",
    "sympy.init_printing()\n",
    "s = Symbol('s')\n",
    "t = Symbol('t', positive=True)"
   ]
  },
  {
   "cell_type": "code",
   "execution_count": null,
   "metadata": {
    "collapsed": false
   },
   "outputs": [],
   "source": [
    "X = (-s**2-s+5)/((s)*(s+1)*(s+2))"
   ]
  },
  {
   "cell_type": "code",
   "execution_count": null,
   "metadata": {
    "collapsed": false
   },
   "outputs": [],
   "source": [
    "X"
   ]
  },
  {
   "cell_type": "code",
   "execution_count": null,
   "metadata": {
    "collapsed": false
   },
   "outputs": [],
   "source": [
    "X.expand()"
   ]
  },
  {
   "cell_type": "code",
   "execution_count": null,
   "metadata": {
    "collapsed": true
   },
   "outputs": [],
   "source": [
    "xt = inverse_laplace_transform(X,s,t).evalf().simplify()"
   ]
  },
  {
   "cell_type": "code",
   "execution_count": null,
   "metadata": {
    "collapsed": false
   },
   "outputs": [],
   "source": [
    "xt"
   ]
  },
  {
   "cell_type": "markdown",
   "metadata": {},
   "source": [
    "**Workshop:** Find $x(t)$:"
   ]
  },
  {
   "cell_type": "markdown",
   "metadata": {},
   "source": [
    "$$ \\frac{d^2 x\\left ( t \\right )}{dt^2} + 34.5 \\frac{dx\\left ( t \\right )}{dt} + 1000 x\\left ( t \\right ) = 1000 u\\left ( t \\right ) $$"
   ]
  },
  {
   "cell_type": "markdown",
   "metadata": {},
   "source": [
    "Sol.: $x(t) = 1 +1.19 e^{-17.2t} sin (26.5 t - \\theta ), \\theta = -56.9^{\\circ}$"
   ]
  }
 ],
 "metadata": {
  "kernelspec": {
   "display_name": "Python 2",
   "language": "python",
   "name": "python2"
  },
  "language_info": {
   "codemirror_mode": {
    "name": "ipython",
    "version": 2
   },
   "file_extension": ".py",
   "mimetype": "text/x-python",
   "name": "python",
   "nbconvert_exporter": "python",
   "pygments_lexer": "ipython2",
   "version": "2.7.6"
  }
 },
 "nbformat": 4,
 "nbformat_minor": 0
}
